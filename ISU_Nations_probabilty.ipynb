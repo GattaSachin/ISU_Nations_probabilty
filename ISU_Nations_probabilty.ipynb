{
 "cells": [
  {
   "cell_type": "markdown",
   "id": "82cb05dc",
   "metadata": {},
   "source": [
    "# Probability of a nation winning based on International Skating Union records\n"
   ]
  },
  {
   "cell_type": "code",
   "execution_count": 77,
   "id": "4af3c4a7",
   "metadata": {},
   "outputs": [],
   "source": [
    "class ProbDist(dict):\n",
    "    \"\"\"A Probability Distribution; an {outcome: probability} mapping.\"\"\"\n",
    "    def __init__(self, mapping=(), **kwargs):\n",
    "        self.update(mapping, **kwargs)\n",
    "        # Make probabilities sum to 1.0; assert no negative probabilities\n",
    "        total = sum(self.values())\n",
    "        for outcome in self:\n",
    "            self[outcome] = self[outcome] / total\n",
    "            assert self[outcome] >= 0\n",
    "            \n",
    "            \n",
    "            \n",
    "def p(event, space): \n",
    "    \"\"\"The probability of an event, given a sample space of equiprobable outcomes. \n",
    "    event: a collection of outcomes, or a predicate that is true of outcomes in the event. \n",
    "    space: a set of outcomes or a probability distribution of {outcome: frequency} pairs.\"\"\"\n",
    "    # branch on the type of the first argument\n",
    "    if callable(event):\n",
    "        # transform the mapping (untangible) 'event' into the collection (tangible) 'event'\n",
    "        event = such_that(event, space)\n",
    "        \n",
    "    if isinstance(space, ProbDist):\n",
    "        # if space is a dictionary of distinct probabilities, where each item does not count as the same amount\n",
    "        # we need to be careful and count each amount according to what it's worth\n",
    "        return sum([space[o] for o in event])\n",
    "    else:\n",
    "        # space is not a dictionary but a collection, let's fall back to our original division\n",
    "        return Fraction(len(event & space), len(space))\n",
    "\n",
    "def such_that(predicate, space): \n",
    "    \"\"\"The outcomes in the sample pace for which the predicate is true.\n",
    "    If space is a set, return a subset {outcome,...} with outcomes where predicate(element) is true;\n",
    "    if space is a ProbDist, return a ProbDist {outcome: frequency,...} with outcomes where predicate(element) is true.\"\"\"\n",
    "    if isinstance(space, ProbDist):\n",
    "        return ProbDist({o:space[o] for o in space if predicate(o)})\n",
    "    else:\n",
    "        return {o for o in space if predicate(o)}"
   ]
  },
  {
   "cell_type": "markdown",
   "id": "ecdef22f",
   "metadata": {},
   "source": []
  },
  {
   "cell_type": "markdown",
   "id": "99ccd47e",
   "metadata": {},
   "source": []
  },
  {
   "cell_type": "markdown",
   "id": "23c2ea29",
   "metadata": {},
   "source": [
    " First we are finding top two Men skaters  for all the countries\n",
    " \n",
    " Nathan Chen (US)\n",
    " Vincet Zhou (US)\n",
    " \n",
    " Yuma Kagiyama(JP)\n",
    " Shorma Uno(JP)\n",
    " \n",
    " Mikhail Kolyada(RU)\n",
    " Mark Kondratiuk(RU)\n",
    " \n",
    " Daniel Grassl (IT)\n",
    " Matteto Rizzo (IT)\n",
    " \n",
    " Keegan Messing (CA)\n",
    " Roman Sadovsky (CA)\n",
    "\n",
    " Boyang Jin(CN)\n",
    " Yudong Chen (CN)"
   ]
  },
  {
   "cell_type": "markdown",
   "id": "c7dd015a",
   "metadata": {},
   "source": [
    "Now we are finding ProbDist for each one of these skaters for the men"
   ]
  },
  {
   "cell_type": "code",
   "execution_count": 78,
   "id": "89550c23",
   "metadata": {},
   "outputs": [
    {
     "name": "stdout",
     "output_type": "stream",
     "text": [
      "{'USNCM': 0.09879606054579894, 'USVZM': 0.09199231930312998, 'RUMKM': 0.08641109984579926, 'RUMKOM': 0.08345096709623366, 'JPYKM': 0.0939092334625403, 'JPSUM': 0.09278451342002915, 'CAKMM': 0.08180463775864487, 'CARSM': 0.07113446761621292, 'CNBJM': 0.07944109564032431, 'CNYCM': 0.05694017467391269, 'ITDGM': 0.08333360500484119, 'ITMRM': 0.08000182563253277}\n"
     ]
    }
   ],
   "source": [
    "MFS=ProbDist(\n",
    "    USNCM=303.05,\n",
    "    USVZM=282.18,\n",
    "    RUMKM=265.06,\n",
    "    RUMKOM=255.98,\n",
    "    JPYKM=288.06,\n",
    "    JPSUM=284.61,\n",
    "    CAKMM=250.93,\n",
    "    CARSM=218.20,\n",
    "    CNBJM=243.68,\n",
    "    CNYCM=174.66,\n",
    "    ITDGM=255.62,\n",
    "    ITMRM=245.40\n",
    ")\n",
    "print(MFS)"
   ]
  },
  {
   "cell_type": "markdown",
   "id": "e2b101fe",
   "metadata": {},
   "source": [
    "we are finding top two Women  skaters  for all the countries\n",
    "\n",
    "Kamila Valieva\t(RU)\n",
    "Eliza Tuktamysheva\t(RU)\n",
    "\n",
    "Kaori Sakamoto\t(JP)\n",
    "Mai Mihara(JP)\n",
    "\n",
    "Alysa Liu (US)\n",
    "Isabeau Levito (US)\n",
    "\n",
    "Madeline Schizas (CA)\n",
    "Kaiya Ruiter (CA)\n",
    "\n",
    "Shan Ashley Lin\t(CN)\n",
    "Yi Zhu (CN)\n",
    "\n",
    "Lara Naki Gutmann(IT)\n",
    "Lucrezia Beccari(IT)"
   ]
  },
  {
   "cell_type": "code",
   "execution_count": 79,
   "id": "b5e68ce9",
   "metadata": {},
   "outputs": [
    {
     "name": "stdout",
     "output_type": "stream",
     "text": [
      "{'USALW': 0.0895371022912835, 'USILW': 0.08823504133936093, 'RUKVW': 0.11303436065799201, 'RUETW': 0.09960981143750967, 'JPKSW': 0.09189628203585609, 'JPMMW': 0.09094659401481685, 'CAMSW': 0.08065042886364028, 'CAKRW': 0.07681729893256785, 'CNSLW': 0.06783178919504271, 'CNYZW': 0.06547260945047012, 'ITLGW': 0.07027691355690394, 'ITLBW': 0.0656917682245561}\n"
     ]
    }
   ],
   "source": [
    "WFS=ProbDist(\n",
    "    USALW=208.36,\n",
    "    USILW=205.33,\n",
    "    RUKVW=263.04,\n",
    "    RUETW=231.80,\n",
    "    JPKSW=213.85,\n",
    "    JPMMW=211.64,\n",
    "    CAMSW=187.68,\n",
    "    CAKRW=178.76,\n",
    "    CNSLW=157.85,\n",
    "    CNYZW=152.36,\n",
    "    ITLGW=163.54,\n",
    "    ITLBW=152.87\n",
    ")\n",
    "print(WFS)"
   ]
  },
  {
   "cell_type": "markdown",
   "id": "b5ebef85",
   "metadata": {},
   "source": [
    "### Part 1:What is the probability for the US to win both the men's and the women's event?"
   ]
  },
  {
   "cell_type": "code",
   "execution_count": 80,
   "id": "161ede07",
   "metadata": {},
   "outputs": [
    {
     "data": {
      "text/plain": [
       "{'USNCM USALW': 0.008845912979065038,\n",
       " 'USNCM USILW': 0.008717274486424575,\n",
       " 'USNCM RUKVW': 0.011167349539322653,\n",
       " 'USNCM RUETW': 0.009841056961735822,\n",
       " 'USNCM JPKSW': 0.009078990643948254,\n",
       " 'USNCM JPMMW': 0.008985165208722041,\n",
       " 'USNCM CAMSW': 0.007967944653056856,\n",
       " 'USNCM CAKRW': 0.007589246516306709,\n",
       " 'USNCM CNSLW': 0.006701513552243309,\n",
       " 'USNCM CNYZW': 0.006468435887360094,\n",
       " 'USNCM ITLGW': 0.00694308220673976,\n",
       " 'USNCM ITLBW': 0.006490087910873835,\n",
       " 'USVZM USALW': 0.008236725703456764,\n",
       " 'USVZM USILW': 0.008116946096615365,\n",
       " 'USVZM RUKVW': 0.010398292997875154,\n",
       " 'USVZM RUETW': 0.00916333757948396,\n",
       " 'USVZM JPKSW': 0.008453752119812962,\n",
       " 'USVZM JPMMW': 0.008366388116143162,\n",
       " 'USVZM CAMSW': 0.007419220003958367,\n",
       " 'USVZM CAKRW': 0.0070666014914087675,\n",
       " 'USVZM CNSLW': 0.0062400036105329714,\n",
       " 'USVZM CNYZW': 0.006022977194176773,\n",
       " 'USVZM ITLGW': 0.0064649362715651715,\n",
       " 'USVZM ITLBW': 0.006043138118100573,\n",
       " 'RUMKM USALW': 0.00773699948599564,\n",
       " 'RUMKM USILW': 0.007624486967073742,\n",
       " 'RUMKM RUKVW': 0.009767423424823831,\n",
       " 'RUMKM RUETW': 0.008607393361747885,\n",
       " 'RUMKM JPKSW': 0.00794085880245809,\n",
       " 'RUMKM JPMMW': 0.007858795216049708,\n",
       " 'RUMKM CAMSW': 0.006969092261142551,\n",
       " 'RUMKM CAKRW': 0.0066378672879467285,\n",
       " 'RUMKM CNSLW': 0.005861419508852043,\n",
       " 'RUMKM CNYZW': 0.005657560192389594,\n",
       " 'RUMKM ITLGW': 0.00607270539422023,\n",
       " 'RUMKM ITLBW': 0.005676497943099219,\n",
       " 'RUMKOM USALW': 0.007471957777202007,\n",
       " 'RUMKOM USILW': 0.007363299531545826,\n",
       " 'RUMKOM RUKVW': 0.0094328267120139,\n",
       " 'RUMKOM RUETW': 0.008312535096733659,\n",
       " 'RUMKOM JPKSW': 0.007668833608440435,\n",
       " 'RUMKOM JPMMW': 0.007589581224645002,\n",
       " 'RUMKOM CAMSW': 0.006730356285396779,\n",
       " 'RUMKOM CAKRW': 0.006410477885643265,\n",
       " 'RUMKOM CNSLW': 0.005660628408194167,\n",
       " 'RUMKOM CNYZW': 0.005463752576955739,\n",
       " 'RUMKOM ITLGW': 0.005864676400862048,\n",
       " 'RUMKOM ITLBW': 0.005482041588600838,\n",
       " 'JPYKM USALW': 0.008408360642631495,\n",
       " 'JPYKM USILW': 0.00828608509671494,\n",
       " 'JPYKM RUKVW': 0.010614970164320352,\n",
       " 'JPYKM RUETW': 0.009354281037444713,\n",
       " 'JPYKM JPKSW': 0.008629909404044659,\n",
       " 'JPYKM JPMMW': 0.008540724929960306,\n",
       " 'JPYKM CAMSW': 0.007573819953009595,\n",
       " 'JPYKM CAKRW': 0.007213853659420262,\n",
       " 'JPYKM CNSLW': 0.006370031327699085,\n",
       " 'JPYKM CNYZW': 0.006148482566285921,\n",
       " 'JPYKM ITLGW': 0.006599651082242056,\n",
       " 'JPYKM ITLBW': 0.006169063598766925,\n",
       " 'JPSUM USALW': 0.008307656469136117,\n",
       " 'JPSUM USILW': 0.008186845377268761,\n",
       " 'JPSUM RUKVW': 0.010487838153395875,\n",
       " 'JPSUM RUETW': 0.00924224788609019,\n",
       " 'JPSUM JPKSW': 0.008526551813806673,\n",
       " 'JPSUM JPMMW': 0.008438435472873717,\n",
       " 'JPSUM CAMSW': 0.007483110799229538,\n",
       " 'JPSUM CAKRW': 0.007127455703699232,\n",
       " 'JPSUM CNSLW': 0.006293739554872028,\n",
       " 'JPSUM CNYZW': 0.006074844210201472,\n",
       " 'JPSUM ITLGW': 0.006520609229038782,\n",
       " 'JPSUM ITLBW': 0.006095178750416769,\n",
       " 'CAKMM USALW': 0.007324550218897178,\n",
       " 'CAKMM USILW': 0.007218035594385476,\n",
       " 'CAKMM RUKVW': 0.009246734927907055,\n",
       " 'CAKMM RUETW': 0.008148544541852399,\n",
       " 'CAKMM JPKSW': 0.007517542063309472,\n",
       " 'CAKMM JPMMW': 0.007439853178764631,\n",
       " 'CAKMM CAMSW': 0.00659757911826945,\n",
       " 'CAKMM CAKRW': 0.00628401131277625,\n",
       " 'CAKMM CNSLW': 0.00554895494362123,\n",
       " 'CAKMM CNYZW': 0.005355963099208937,\n",
       " 'CAKMM ITLGW': 0.005748977456318125,\n",
       " 'CAKMM ITLBW': 0.005373891303334669,\n",
       " 'CARSM USALW': 0.0063691741033888504,\n",
       " 'CARSM USILW': 0.006276552690769978,\n",
       " 'CARSM RUKVW': 0.008040639067745265,\n",
       " 'CARSM RUETW': 0.007085690905958607,\n",
       " 'CARSM JPKSW': 0.006536993098529975,\n",
       " 'CARSM JPMMW': 0.006469437546751853,\n",
       " 'CARSM CAMSW': 0.005737025320234303,\n",
       " 'CARSM CAKRW': 0.005464357663283695,\n",
       " 'CARSM CNSLW': 0.004825178211844547,\n",
       " 'CARSM CNYZW': 0.004657359216703423,\n",
       " 'CARSM ITLGW': 0.004999110831580978,\n",
       " 'CARSM ITLBW': 0.004672948959421451,\n",
       " 'CNBJM USALW': 0.007112925506479354,\n",
       " 'CNBJM USILW': 0.007009488357868141,\n",
       " 'CNBJM RUKVW': 0.008979573455674454,\n",
       " 'CNBJM RUETW': 0.007913112557121876,\n",
       " 'CNBJM JPKSW': 0.00730034133020066,\n",
       " 'CNBJM JPMMW': 0.007224897073292812,\n",
       " 'CNBJM CAMSW': 0.00640695843278962,\n",
       " 'CNBJM CAKRW': 0.006102450391333505,\n",
       " 'CNBJM CNSLW': 0.005388631652897705,\n",
       " 'CNBJM CNYZW': 0.005201215829176398,\n",
       " 'CNBJM ITLGW': 0.00558287501118081,\n",
       " 'CNBJM ITLBW': 0.005218626042308978,\n",
       " 'CNYCM USALW': 0.005098258244261671,\n",
       " 'CNYCM USILW': 0.0050241186662231185,\n",
       " 'CNYCM RUKVW': 0.00643619624002011,\n",
       " 'CNYCM RUETW': 0.005671800062487307,\n",
       " 'CNYCM JPKSW': 0.005232590351004791,\n",
       " 'CNYCM JPMMW': 0.005178514949201094,\n",
       " 'CNYCM CAMSW': 0.004592249507021647,\n",
       " 'CNYCM CAKRW': 0.004373990419198581,\n",
       " 'CNYCM CNSLW': 0.0038623539252097554,\n",
       " 'CNYCM CNYZW': 0.0037280218184666354,\n",
       " 'CNYCM ITLGW': 0.0040015797334735734,\n",
       " 'CNYCM ITLBW': 0.0037405007573444115,\n",
       " 'ITDGM USALW': 0.00746144951561988,\n",
       " 'ITDGM USILW': 0.007352944082560137,\n",
       " 'ITDGM RUKVW': 0.009419560763047867,\n",
       " 'ITDGM RUETW': 0.008300844680940143,\n",
       " 'ITDGM JPKSW': 0.007658048468589514,\n",
       " 'ITDGM JPMMW': 0.0075789075421664005,\n",
       " 'ITDGM CAMSW': 0.0067208909823936415,\n",
       " 'ITDGM CAKRW': 0.006401462446785418,\n",
       " 'ITDGM CNSLW': 0.005652667527551343,\n",
       " 'ITDGM CNYZW': 0.005456068574581709,\n",
       " 'ITDGM ITLGW': 0.005856428555310401,\n",
       " 'ITDGM ITLBW': 0.005474331865294735,\n",
       " 'ITMRM USALW': 0.007163131645149513,\n",
       " 'ITMRM USILW': 0.0070589643919108745,\n",
       " 'ITMRM RUKVW': 0.0090429552118455,\n",
       " 'ITMRM RUETW': 0.007968966765913119,\n",
       " 'ITMRM JPKSW': 0.007351870331710613,\n",
       " 'ITMRM JPMMW': 0.007275893556246127,\n",
       " 'ITMRM CAMSW': 0.006452181547137938,\n",
       " 'ITMRM CAKRW': 0.0061455241547654395,\n",
       " 'ITMRM CNSLW': 0.005426666971524528,\n",
       " 'ITMRM CNYZW': 0.005237928284963428,\n",
       " 'ITMRM ITLGW': 0.005622281384372007,\n",
       " 'ITMRM ITLBW': 0.0052554613869936935}"
      ]
     },
     "execution_count": 80,
     "metadata": {},
     "output_type": "execute_result"
    }
   ],
   "source": [
    "def joint(A, B, sep=' '):\n",
    "    \"\"\"The joint distribution of two independent probability distributions. \n",
    "    Result is all entries of the form {a+sep+b: P(a)*P(b)}\"\"\"\n",
    "    return ProbDist({a+sep+b: A[a] * B[b]\n",
    "                    for a in A\n",
    "                    for b in B})\n",
    "\n",
    "JPD= joint(MFS, WFS, ' ')\n",
    "JPD"
   ]
  },
  {
   "cell_type": "code",
   "execution_count": 81,
   "id": "043d7d60",
   "metadata": {
    "scrolled": true
   },
   "outputs": [
    {
     "data": {
      "text/plain": [
       "0.03391685926556175"
      ]
     },
     "execution_count": 81,
     "metadata": {},
     "output_type": "execute_result"
    }
   ],
   "source": [
    "def US_MEN_AND_WOMEN(outcome):\n",
    "    out1,out2=outcome.split(' ')\n",
    "    return out1.startswith('US') and out2.startswith('US')\n",
    "\n",
    "p(US_MEN_AND_WOMEN,JPD)"
   ]
  },
  {
   "cell_type": "markdown",
   "id": "322dd36c",
   "metadata": {},
   "source": [
    "### What is the probability for the US to win at least one of these two events?\n"
   ]
  },
  {
   "cell_type": "code",
   "execution_count": 82,
   "id": "fccb120e",
   "metadata": {},
   "outputs": [
    {
     "data": {
      "text/plain": [
       "0.33464366421401165"
      ]
     },
     "execution_count": 82,
     "metadata": {},
     "output_type": "execute_result"
    }
   ],
   "source": [
    "def US_MEN_OR_WOMEN(outcome):\n",
    "    out1,out2=outcome.split(' ')\n",
    "    return out1.startswith('US') or out2.startswith('US')   \n",
    "p(US_MEN_OR_WOMEN,JPD)"
   ]
  },
  {
   "cell_type": "markdown",
   "id": "0670c729",
   "metadata": {},
   "source": [
    "### Question 2: If the US wins the men's event, what is the probability that the US wins the women's event? If the US wins at least one of these two events, what is the probability the US wins both events (not necessarily the first one)? How about Canada, China, and the ROC? Which nations are more likely to win both events if they win one of them?"
   ]
  },
  {
   "cell_type": "markdown",
   "id": "23ddc349",
   "metadata": {},
   "source": [
    "### For USA"
   ]
  },
  {
   "cell_type": "markdown",
   "id": "40194638",
   "metadata": {},
   "source": [
    "Lets first define few predicates"
   ]
  },
  {
   "cell_type": "code",
   "execution_count": 83,
   "id": "29d935ff",
   "metadata": {},
   "outputs": [
    {
     "data": {
      "text/plain": [
       "0.19078837984892894"
      ]
     },
     "execution_count": 83,
     "metadata": {},
     "output_type": "execute_result"
    }
   ],
   "source": [
    "def US_MEN_WIN(outcome):\n",
    "    out1,out2=outcome.split(' ')\n",
    "    return (out1.startswith('US') and out1.endswith('M')) ##or (out2.startswith('US') and out2.endsswith('M') )\n",
    "  \n",
    "p(US_MEN_WIN,JPD)"
   ]
  },
  {
   "cell_type": "code",
   "execution_count": 84,
   "id": "9ae62934",
   "metadata": {},
   "outputs": [
    {
     "data": {
      "text/plain": [
       "0.1777721436306444"
      ]
     },
     "execution_count": 84,
     "metadata": {},
     "output_type": "execute_result"
    }
   ],
   "source": [
    "def US_WOMEN_WIN(outcome):\n",
    "    out1,out2=outcome.split(' ')\n",
    "    return (out2.startswith('US') and out2.endswith('W')) \n",
    "p(US_WOMEN_WIN,JPD)"
   ]
  },
  {
   "cell_type": "markdown",
   "id": "a0154635",
   "metadata": {},
   "source": [
    "### If the US wins the men's event,the probability that the US wins the women's event is:\n"
   ]
  },
  {
   "cell_type": "code",
   "execution_count": 85,
   "id": "c9015308",
   "metadata": {},
   "outputs": [
    {
     "data": {
      "text/plain": [
       "0.17777214363064442"
      ]
     },
     "execution_count": 85,
     "metadata": {},
     "output_type": "execute_result"
    }
   ],
   "source": [
    "p(US_WOMEN_WIN,such_that(US_MEN_WIN,JPD))"
   ]
  },
  {
   "cell_type": "markdown",
   "id": "5e90a764",
   "metadata": {},
   "source": [
    "### If the US wins at least one of these two events, then the probability that  US wins both events:"
   ]
  },
  {
   "cell_type": "code",
   "execution_count": 86,
   "id": "3add8a9d",
   "metadata": {},
   "outputs": [
    {
     "data": {
      "text/plain": [
       "0.1013521631889352"
      ]
     },
     "execution_count": 86,
     "metadata": {},
     "output_type": "execute_result"
    }
   ],
   "source": [
    "US=p(US_MEN_AND_WOMEN,such_that(US_MEN_OR_WOMEN,JPD))\n",
    "US"
   ]
  },
  {
   "cell_type": "markdown",
   "id": "c28d6197",
   "metadata": {},
   "source": [
    "### For CHINA"
   ]
  },
  {
   "cell_type": "markdown",
   "id": "222524e0",
   "metadata": {},
   "source": [
    "Lets first define few predicates"
   ]
  },
  {
   "cell_type": "code",
   "execution_count": 87,
   "id": "97468309",
   "metadata": {},
   "outputs": [
    {
     "data": {
      "text/plain": [
       "0.018180223225750494"
      ]
     },
     "execution_count": 87,
     "metadata": {},
     "output_type": "execute_result"
    }
   ],
   "source": [
    "def CN_MEN_AND_WOMEN(outcome):\n",
    "    out1,out2=outcome.split(' ')\n",
    "    return out1.startswith('CN') and out2.startswith('CN')\n",
    "\n",
    "p(CN_MEN_AND_WOMEN,JPD)"
   ]
  },
  {
   "cell_type": "code",
   "execution_count": 88,
   "id": "27f19465",
   "metadata": {},
   "outputs": [
    {
     "data": {
      "text/plain": [
       "0.25150544573399936"
      ]
     },
     "execution_count": 88,
     "metadata": {},
     "output_type": "execute_result"
    }
   ],
   "source": [
    "def CN_MEN_OR_WOMEN(outcome):\n",
    "    out1,out2=outcome.split(' ')\n",
    "    return out1.startswith('CN') or out2.startswith('CN')   \n",
    "p(CN_MEN_OR_WOMEN,JPD)"
   ]
  },
  {
   "cell_type": "markdown",
   "id": "a766b4f0",
   "metadata": {},
   "source": [
    "### If CHINA wins at least one of these two events, then the probability that CHINA wins both events is:"
   ]
  },
  {
   "cell_type": "code",
   "execution_count": 89,
   "id": "215361bc",
   "metadata": {},
   "outputs": [
    {
     "data": {
      "text/plain": [
       "0.0722856046822084"
      ]
     },
     "execution_count": 89,
     "metadata": {},
     "output_type": "execute_result"
    }
   ],
   "source": [
    "CN=p(CN_MEN_AND_WOMEN,such_that(CN_MEN_OR_WOMEN,JPD))\n",
    "CN"
   ]
  },
  {
   "cell_type": "markdown",
   "id": "d1344628",
   "metadata": {},
   "source": [
    "### For CANADA"
   ]
  },
  {
   "cell_type": "markdown",
   "id": "bbe60e53",
   "metadata": {},
   "source": [
    "Lets define few predicates"
   ]
  },
  {
   "cell_type": "code",
   "execution_count": 90,
   "id": "6fceda99",
   "metadata": {},
   "outputs": [
    {
     "data": {
      "text/plain": [
       "0.0240829734145637"
      ]
     },
     "execution_count": 90,
     "metadata": {},
     "output_type": "execute_result"
    }
   ],
   "source": [
    "def CA_MEN_AND_WOMEN(outcome):\n",
    "    out1,out2=outcome.split(' ')\n",
    "    return out1.startswith('CA') and out2.startswith('CA')\n",
    "\n",
    "p(CA_MEN_AND_WOMEN,JPD)"
   ]
  },
  {
   "cell_type": "code",
   "execution_count": 91,
   "id": "d3a8e33d",
   "metadata": {},
   "outputs": [
    {
     "data": {
      "text/plain": [
       "0.25150544573399936"
      ]
     },
     "execution_count": 91,
     "metadata": {},
     "output_type": "execute_result"
    }
   ],
   "source": [
    "def CA_MEN_OR_WOMEN(outcome):\n",
    "    out1,out2=outcome.split(' ')\n",
    "    return out1.startswith('CA') or out2.startswith('CA')   \n",
    "p(CN_MEN_OR_WOMEN,JPD)"
   ]
  },
  {
   "cell_type": "markdown",
   "id": "0c580d59",
   "metadata": {},
   "source": [
    " ### If CANADA wins at least one of these two events, then the probability that CANADA wins both events is:"
   ]
  },
  {
   "cell_type": "code",
   "execution_count": 92,
   "id": "d6ae74ef",
   "metadata": {},
   "outputs": [
    {
     "data": {
      "text/plain": [
       "0.08411095545807648"
      ]
     },
     "execution_count": 92,
     "metadata": {},
     "output_type": "execute_result"
    }
   ],
   "source": [
    "CA=p(CA_MEN_AND_WOMEN,such_that(CA_MEN_OR_WOMEN,JPD))\n",
    "CA"
   ]
  },
  {
   "cell_type": "markdown",
   "id": "e305ba5f",
   "metadata": {},
   "source": [
    "### For JAPAN"
   ]
  },
  {
   "cell_type": "markdown",
   "id": "4b58988a",
   "metadata": {},
   "source": [
    " Let define few predicates"
   ]
  },
  {
   "cell_type": "code",
   "execution_count": 93,
   "id": "3f54e092",
   "metadata": {},
   "outputs": [
    {
     "data": {
      "text/plain": [
       "0.034135621620685355"
      ]
     },
     "execution_count": 93,
     "metadata": {},
     "output_type": "execute_result"
    }
   ],
   "source": [
    "def JP_MEN_AND_WOMEN(outcome):\n",
    "    out1,out2=outcome.split(' ')\n",
    "    return out1.startswith('JP') and out2.startswith('JP')\n",
    "\n",
    "p(JP_MEN_AND_WOMEN,JPD)"
   ]
  },
  {
   "cell_type": "code",
   "execution_count": 94,
   "id": "8c0fa217",
   "metadata": {},
   "outputs": [
    {
     "data": {
      "text/plain": [
       "0.335401001312557"
      ]
     },
     "execution_count": 94,
     "metadata": {},
     "output_type": "execute_result"
    }
   ],
   "source": [
    "def JP_MEN_OR_WOMEN(outcome):\n",
    "    out1,out2=outcome.split(' ')\n",
    "    return out1.startswith('JP') or out2.startswith('JP')   \n",
    "p(JP_MEN_OR_WOMEN,JPD)"
   ]
  },
  {
   "cell_type": "markdown",
   "id": "9424be7a",
   "metadata": {},
   "source": [
    "#### If JAPAN wins at least one of these two events, then the probability that JAPAN wins both events is:"
   ]
  },
  {
   "cell_type": "code",
   "execution_count": 95,
   "id": "beaa08f0",
   "metadata": {},
   "outputs": [
    {
     "data": {
      "text/plain": [
       "0.10177555072018013"
      ]
     },
     "execution_count": 95,
     "metadata": {},
     "output_type": "execute_result"
    }
   ],
   "source": [
    "JP=p(JP_MEN_AND_WOMEN,such_that(JP_MEN_OR_WOMEN,JPD))\n",
    "JP"
   ]
  },
  {
   "cell_type": "markdown",
   "id": "a78723c2",
   "metadata": {},
   "source": [
    "### For ROC"
   ]
  },
  {
   "cell_type": "markdown",
   "id": "8d33eb0d",
   "metadata": {},
   "source": [
    "Lets define few predicates"
   ]
  },
  {
   "cell_type": "code",
   "execution_count": 96,
   "id": "c1e815c3",
   "metadata": {},
   "outputs": [
    {
     "data": {
      "text/plain": [
       "0.036120178595319276"
      ]
     },
     "execution_count": 96,
     "metadata": {},
     "output_type": "execute_result"
    }
   ],
   "source": [
    "def RU_MEN_AND_WOMEN(outcome):\n",
    "    out1,out2=outcome.split(' ')\n",
    "    return out1.startswith('RU') and out2.startswith('RU')\n",
    "\n",
    "p(RU_MEN_AND_WOMEN,JPD)"
   ]
  },
  {
   "cell_type": "code",
   "execution_count": 97,
   "id": "3eca8862",
   "metadata": {},
   "outputs": [
    {
     "data": {
      "text/plain": [
       "0.3463860604422153"
      ]
     },
     "execution_count": 97,
     "metadata": {},
     "output_type": "execute_result"
    }
   ],
   "source": [
    "def RU_MEN_OR_WOMEN(outcome):\n",
    "    out1,out2=outcome.split(' ')\n",
    "    return out1.startswith('RU') or out2.startswith('RU')   \n",
    "p(RU_MEN_OR_WOMEN,JPD)"
   ]
  },
  {
   "cell_type": "markdown",
   "id": "6fee9a10",
   "metadata": {},
   "source": [
    "### If ROC wins at least one of these two events, then the probability that ROC wins both events is:"
   ]
  },
  {
   "cell_type": "code",
   "execution_count": 98,
   "id": "525fad72",
   "metadata": {},
   "outputs": [
    {
     "data": {
      "text/plain": [
       "0.10427722913908916"
      ]
     },
     "execution_count": 98,
     "metadata": {},
     "output_type": "execute_result"
    }
   ],
   "source": [
    "ROC=p(RU_MEN_AND_WOMEN,such_that(RU_MEN_OR_WOMEN,JPD))\n",
    "ROC"
   ]
  },
  {
   "cell_type": "markdown",
   "id": "b9275c71",
   "metadata": {},
   "source": [
    "### For ITALY"
   ]
  },
  {
   "cell_type": "markdown",
   "id": "1d071e6b",
   "metadata": {},
   "source": [
    "Lets define few predicates:"
   ]
  },
  {
   "cell_type": "code",
   "execution_count": 99,
   "id": "d6715aee",
   "metadata": {},
   "outputs": [
    {
     "data": {
      "text/plain": [
       "0.022208503191970836"
      ]
     },
     "execution_count": 99,
     "metadata": {},
     "output_type": "execute_result"
    }
   ],
   "source": [
    "def IT_MEN_AND_WOMEN(outcome):\n",
    "    out1,out2=outcome.split(' ')\n",
    "    return out1.startswith('IT') and out2.startswith('IT')\n",
    "\n",
    "p(IT_MEN_AND_WOMEN,JPD)"
   ]
  },
  {
   "cell_type": "code",
   "execution_count": 100,
   "id": "07ea7fa7",
   "metadata": {},
   "outputs": [
    {
     "data": {
      "text/plain": [
       "0.27709560922686316"
      ]
     },
     "execution_count": 100,
     "metadata": {},
     "output_type": "execute_result"
    }
   ],
   "source": [
    "def IT_MEN_OR_WOMEN(outcome):\n",
    "    out1,out2=outcome.split(' ')\n",
    "    return out1.startswith('IT') or out2.startswith('IT')   \n",
    "p(IT_MEN_OR_WOMEN,JPD)"
   ]
  },
  {
   "cell_type": "markdown",
   "id": "411dc893",
   "metadata": {},
   "source": [
    "### If ITALY wins at least one of these two events, then the probability that ITALY wins both events is:"
   ]
  },
  {
   "cell_type": "code",
   "execution_count": 101,
   "id": "d266c1bc",
   "metadata": {},
   "outputs": [
    {
     "data": {
      "text/plain": [
       "0.08014743811327713"
      ]
     },
     "execution_count": 101,
     "metadata": {},
     "output_type": "execute_result"
    }
   ],
   "source": [
    "IT=p(IT_MEN_AND_WOMEN,such_that(IT_MEN_OR_WOMEN,JPD))\n",
    "IT"
   ]
  },
  {
   "cell_type": "markdown",
   "id": "041d7e4b",
   "metadata": {},
   "source": [
    "###  Nations which are more likely to win both events if they win one of them are:\n"
   ]
  },
  {
   "cell_type": "markdown",
   "id": "db466254",
   "metadata": {},
   "source": [
    "The nations which are more likely to win both events if they win one of them are obtainer by finding the probailities as show above.Based on the above calculations we can conclude that ROC(0.104) i.e. 10.4%  has the highest probability of winning both followed by JP and then US,CN,IT,CN.\n"
   ]
  },
  {
   "cell_type": "markdown",
   "id": "975b87dc",
   "metadata": {},
   "source": [
    "### Question 3 :The US wins at least one of these two events the same day that the US team of the same sex wins the hockey event gold medal. What is the probability the US wins both events assuming that the teams in contention to win the gold medal for the hockey event for both men and women are USA, China, Russia, Canada, and Japan and that men and women teams have the same probability to win hockey gold?"
   ]
  },
  {
   "cell_type": "markdown",
   "id": "3f71c500",
   "metadata": {},
   "source": [
    "First we are fining the probability ditribution of men hockey team winning.\n"
   ]
  },
  {
   "cell_type": "code",
   "execution_count": 102,
   "id": "7861a059",
   "metadata": {},
   "outputs": [
    {
     "name": "stdout",
     "output_type": "stream",
     "text": [
      "{'USHM': 0.2, 'RUHM': 0.2, 'JPHM': 0.2, 'CAHM': 0.2, 'CNHM': 0.2}\n"
     ]
    }
   ],
   "source": [
    "HMFS=ProbDist(\n",
    "    USHM=100,\n",
    "    \n",
    "    RUHM=100,\n",
    "    \n",
    "    \n",
    "    JPHM=100,\n",
    "    \n",
    "    CAHM=100,\n",
    "    \n",
    "    CNHM=100,\n",
    "    \n",
    "  )\n",
    "print(HMFS)"
   ]
  },
  {
   "cell_type": "markdown",
   "id": "c736d31b",
   "metadata": {},
   "source": [
    "Now,we are fining the probability ditribution of women hockey team winning."
   ]
  },
  {
   "cell_type": "code",
   "execution_count": 103,
   "id": "8763b6f8",
   "metadata": {},
   "outputs": [
    {
     "name": "stdout",
     "output_type": "stream",
     "text": [
      "{'USHW': 0.2, 'RUHW': 0.2, 'JPHW': 0.2, 'CAHW': 0.2, 'CNHW': 0.2}\n"
     ]
    }
   ],
   "source": [
    "HWFS=ProbDist(\n",
    "    USHW=100,\n",
    "    \n",
    "    RUHW=100,\n",
    "    \n",
    "    \n",
    "    JPHW=100,\n",
    "    \n",
    "    CAHW=100,\n",
    "    \n",
    "    CNHW=100,\n",
    "    \n",
    "  )\n",
    "print(HWFS)"
   ]
  },
  {
   "cell_type": "markdown",
   "id": "a843f623",
   "metadata": {},
   "source": [
    "From the above cells we can see that Uniform probability is prevalent for all the countries mentioned,when it comes to  winning the hockey event."
   ]
  },
  {
   "cell_type": "markdown",
   "id": "29509299",
   "metadata": {},
   "source": [
    "Lets find the joint distribution of us men and women participating in skating and hockey."
   ]
  },
  {
   "cell_type": "code",
   "execution_count": 104,
   "id": "c1acd50e",
   "metadata": {
    "scrolled": true
   },
   "outputs": [
    {
     "data": {
      "text/plain": [
       "{'USNCM USHM USALW USHW': 0.0003538365191626012,\n",
       " 'USNCM USHM USALW RUHW': 0.0003538365191626012,\n",
       " 'USNCM USHM USALW JPHW': 0.0003538365191626012,\n",
       " 'USNCM USHM USALW CAHW': 0.0003538365191626012,\n",
       " 'USNCM USHM USALW CNHW': 0.0003538365191626012,\n",
       " 'USNCM USHM USILW USHW': 0.00034869097945698267,\n",
       " 'USNCM USHM USILW RUHW': 0.00034869097945698267,\n",
       " 'USNCM USHM USILW JPHW': 0.00034869097945698267,\n",
       " 'USNCM USHM USILW CAHW': 0.00034869097945698267,\n",
       " 'USNCM USHM USILW CNHW': 0.00034869097945698267,\n",
       " 'USNCM USHM RUKVW USHW': 0.00044669398157290565,\n",
       " 'USNCM USHM RUKVW RUHW': 0.00044669398157290565,\n",
       " 'USNCM USHM RUKVW JPHW': 0.00044669398157290565,\n",
       " 'USNCM USHM RUKVW CAHW': 0.00044669398157290565,\n",
       " 'USNCM USHM RUKVW CNHW': 0.00044669398157290565,\n",
       " 'USNCM USHM RUETW USHW': 0.00039364227846943245,\n",
       " 'USNCM USHM RUETW RUHW': 0.00039364227846943245,\n",
       " 'USNCM USHM RUETW JPHW': 0.00039364227846943245,\n",
       " 'USNCM USHM RUETW CAHW': 0.00039364227846943245,\n",
       " 'USNCM USHM RUETW CNHW': 0.00039364227846943245,\n",
       " 'USNCM USHM JPKSW USHW': 0.00036315962575792984,\n",
       " 'USNCM USHM JPKSW RUHW': 0.00036315962575792984,\n",
       " 'USNCM USHM JPKSW JPHW': 0.00036315962575792984,\n",
       " 'USNCM USHM JPKSW CAHW': 0.00036315962575792984,\n",
       " 'USNCM USHM JPKSW CNHW': 0.00036315962575792984,\n",
       " 'USNCM USHM JPMMW USHW': 0.00035940660834888136,\n",
       " 'USNCM USHM JPMMW RUHW': 0.00035940660834888136,\n",
       " 'USNCM USHM JPMMW JPHW': 0.00035940660834888136,\n",
       " 'USNCM USHM JPMMW CAHW': 0.00035940660834888136,\n",
       " 'USNCM USHM JPMMW CNHW': 0.00035940660834888136,\n",
       " 'USNCM USHM CAMSW USHW': 0.00031871778612227393,\n",
       " 'USNCM USHM CAMSW RUHW': 0.00031871778612227393,\n",
       " 'USNCM USHM CAMSW JPHW': 0.00031871778612227393,\n",
       " 'USNCM USHM CAMSW CAHW': 0.00031871778612227393,\n",
       " 'USNCM USHM CAMSW CNHW': 0.00031871778612227393,\n",
       " 'USNCM USHM CAKRW USHW': 0.00030356986065226816,\n",
       " 'USNCM USHM CAKRW RUHW': 0.00030356986065226816,\n",
       " 'USNCM USHM CAKRW JPHW': 0.00030356986065226816,\n",
       " 'USNCM USHM CAKRW CAHW': 0.00030356986065226816,\n",
       " 'USNCM USHM CAKRW CNHW': 0.00030356986065226816,\n",
       " 'USNCM USHM CNSLW USHW': 0.0002680605420897322,\n",
       " 'USNCM USHM CNSLW RUHW': 0.0002680605420897322,\n",
       " 'USNCM USHM CNSLW JPHW': 0.0002680605420897322,\n",
       " 'USNCM USHM CNSLW CAHW': 0.0002680605420897322,\n",
       " 'USNCM USHM CNSLW CNHW': 0.0002680605420897322,\n",
       " 'USNCM USHM CNYZW USHW': 0.00025873743549440355,\n",
       " 'USNCM USHM CNYZW RUHW': 0.00025873743549440355,\n",
       " 'USNCM USHM CNYZW JPHW': 0.00025873743549440355,\n",
       " 'USNCM USHM CNYZW CAHW': 0.00025873743549440355,\n",
       " 'USNCM USHM CNYZW CNHW': 0.00025873743549440355,\n",
       " 'USNCM USHM ITLGW USHW': 0.0002777232882695901,\n",
       " 'USNCM USHM ITLGW RUHW': 0.0002777232882695901,\n",
       " 'USNCM USHM ITLGW JPHW': 0.0002777232882695901,\n",
       " 'USNCM USHM ITLGW CAHW': 0.0002777232882695901,\n",
       " 'USNCM USHM ITLGW CNHW': 0.0002777232882695901,\n",
       " 'USNCM USHM ITLBW USHW': 0.0002596035164349532,\n",
       " 'USNCM USHM ITLBW RUHW': 0.0002596035164349532,\n",
       " 'USNCM USHM ITLBW JPHW': 0.0002596035164349532,\n",
       " 'USNCM USHM ITLBW CAHW': 0.0002596035164349532,\n",
       " 'USNCM USHM ITLBW CNHW': 0.0002596035164349532,\n",
       " 'USNCM RUHM USALW USHW': 0.0003538365191626012,\n",
       " 'USNCM RUHM USALW RUHW': 0.0003538365191626012,\n",
       " 'USNCM RUHM USALW JPHW': 0.0003538365191626012,\n",
       " 'USNCM RUHM USALW CAHW': 0.0003538365191626012,\n",
       " 'USNCM RUHM USALW CNHW': 0.0003538365191626012,\n",
       " 'USNCM RUHM USILW USHW': 0.00034869097945698267,\n",
       " 'USNCM RUHM USILW RUHW': 0.00034869097945698267,\n",
       " 'USNCM RUHM USILW JPHW': 0.00034869097945698267,\n",
       " 'USNCM RUHM USILW CAHW': 0.00034869097945698267,\n",
       " 'USNCM RUHM USILW CNHW': 0.00034869097945698267,\n",
       " 'USNCM RUHM RUKVW USHW': 0.00044669398157290565,\n",
       " 'USNCM RUHM RUKVW RUHW': 0.00044669398157290565,\n",
       " 'USNCM RUHM RUKVW JPHW': 0.00044669398157290565,\n",
       " 'USNCM RUHM RUKVW CAHW': 0.00044669398157290565,\n",
       " 'USNCM RUHM RUKVW CNHW': 0.00044669398157290565,\n",
       " 'USNCM RUHM RUETW USHW': 0.00039364227846943245,\n",
       " 'USNCM RUHM RUETW RUHW': 0.00039364227846943245,\n",
       " 'USNCM RUHM RUETW JPHW': 0.00039364227846943245,\n",
       " 'USNCM RUHM RUETW CAHW': 0.00039364227846943245,\n",
       " 'USNCM RUHM RUETW CNHW': 0.00039364227846943245,\n",
       " 'USNCM RUHM JPKSW USHW': 0.00036315962575792984,\n",
       " 'USNCM RUHM JPKSW RUHW': 0.00036315962575792984,\n",
       " 'USNCM RUHM JPKSW JPHW': 0.00036315962575792984,\n",
       " 'USNCM RUHM JPKSW CAHW': 0.00036315962575792984,\n",
       " 'USNCM RUHM JPKSW CNHW': 0.00036315962575792984,\n",
       " 'USNCM RUHM JPMMW USHW': 0.00035940660834888136,\n",
       " 'USNCM RUHM JPMMW RUHW': 0.00035940660834888136,\n",
       " 'USNCM RUHM JPMMW JPHW': 0.00035940660834888136,\n",
       " 'USNCM RUHM JPMMW CAHW': 0.00035940660834888136,\n",
       " 'USNCM RUHM JPMMW CNHW': 0.00035940660834888136,\n",
       " 'USNCM RUHM CAMSW USHW': 0.00031871778612227393,\n",
       " 'USNCM RUHM CAMSW RUHW': 0.00031871778612227393,\n",
       " 'USNCM RUHM CAMSW JPHW': 0.00031871778612227393,\n",
       " 'USNCM RUHM CAMSW CAHW': 0.00031871778612227393,\n",
       " 'USNCM RUHM CAMSW CNHW': 0.00031871778612227393,\n",
       " 'USNCM RUHM CAKRW USHW': 0.00030356986065226816,\n",
       " 'USNCM RUHM CAKRW RUHW': 0.00030356986065226816,\n",
       " 'USNCM RUHM CAKRW JPHW': 0.00030356986065226816,\n",
       " 'USNCM RUHM CAKRW CAHW': 0.00030356986065226816,\n",
       " 'USNCM RUHM CAKRW CNHW': 0.00030356986065226816,\n",
       " 'USNCM RUHM CNSLW USHW': 0.0002680605420897322,\n",
       " 'USNCM RUHM CNSLW RUHW': 0.0002680605420897322,\n",
       " 'USNCM RUHM CNSLW JPHW': 0.0002680605420897322,\n",
       " 'USNCM RUHM CNSLW CAHW': 0.0002680605420897322,\n",
       " 'USNCM RUHM CNSLW CNHW': 0.0002680605420897322,\n",
       " 'USNCM RUHM CNYZW USHW': 0.00025873743549440355,\n",
       " 'USNCM RUHM CNYZW RUHW': 0.00025873743549440355,\n",
       " 'USNCM RUHM CNYZW JPHW': 0.00025873743549440355,\n",
       " 'USNCM RUHM CNYZW CAHW': 0.00025873743549440355,\n",
       " 'USNCM RUHM CNYZW CNHW': 0.00025873743549440355,\n",
       " 'USNCM RUHM ITLGW USHW': 0.0002777232882695901,\n",
       " 'USNCM RUHM ITLGW RUHW': 0.0002777232882695901,\n",
       " 'USNCM RUHM ITLGW JPHW': 0.0002777232882695901,\n",
       " 'USNCM RUHM ITLGW CAHW': 0.0002777232882695901,\n",
       " 'USNCM RUHM ITLGW CNHW': 0.0002777232882695901,\n",
       " 'USNCM RUHM ITLBW USHW': 0.0002596035164349532,\n",
       " 'USNCM RUHM ITLBW RUHW': 0.0002596035164349532,\n",
       " 'USNCM RUHM ITLBW JPHW': 0.0002596035164349532,\n",
       " 'USNCM RUHM ITLBW CAHW': 0.0002596035164349532,\n",
       " 'USNCM RUHM ITLBW CNHW': 0.0002596035164349532,\n",
       " 'USNCM JPHM USALW USHW': 0.0003538365191626012,\n",
       " 'USNCM JPHM USALW RUHW': 0.0003538365191626012,\n",
       " 'USNCM JPHM USALW JPHW': 0.0003538365191626012,\n",
       " 'USNCM JPHM USALW CAHW': 0.0003538365191626012,\n",
       " 'USNCM JPHM USALW CNHW': 0.0003538365191626012,\n",
       " 'USNCM JPHM USILW USHW': 0.00034869097945698267,\n",
       " 'USNCM JPHM USILW RUHW': 0.00034869097945698267,\n",
       " 'USNCM JPHM USILW JPHW': 0.00034869097945698267,\n",
       " 'USNCM JPHM USILW CAHW': 0.00034869097945698267,\n",
       " 'USNCM JPHM USILW CNHW': 0.00034869097945698267,\n",
       " 'USNCM JPHM RUKVW USHW': 0.00044669398157290565,\n",
       " 'USNCM JPHM RUKVW RUHW': 0.00044669398157290565,\n",
       " 'USNCM JPHM RUKVW JPHW': 0.00044669398157290565,\n",
       " 'USNCM JPHM RUKVW CAHW': 0.00044669398157290565,\n",
       " 'USNCM JPHM RUKVW CNHW': 0.00044669398157290565,\n",
       " 'USNCM JPHM RUETW USHW': 0.00039364227846943245,\n",
       " 'USNCM JPHM RUETW RUHW': 0.00039364227846943245,\n",
       " 'USNCM JPHM RUETW JPHW': 0.00039364227846943245,\n",
       " 'USNCM JPHM RUETW CAHW': 0.00039364227846943245,\n",
       " 'USNCM JPHM RUETW CNHW': 0.00039364227846943245,\n",
       " 'USNCM JPHM JPKSW USHW': 0.00036315962575792984,\n",
       " 'USNCM JPHM JPKSW RUHW': 0.00036315962575792984,\n",
       " 'USNCM JPHM JPKSW JPHW': 0.00036315962575792984,\n",
       " 'USNCM JPHM JPKSW CAHW': 0.00036315962575792984,\n",
       " 'USNCM JPHM JPKSW CNHW': 0.00036315962575792984,\n",
       " 'USNCM JPHM JPMMW USHW': 0.00035940660834888136,\n",
       " 'USNCM JPHM JPMMW RUHW': 0.00035940660834888136,\n",
       " 'USNCM JPHM JPMMW JPHW': 0.00035940660834888136,\n",
       " 'USNCM JPHM JPMMW CAHW': 0.00035940660834888136,\n",
       " 'USNCM JPHM JPMMW CNHW': 0.00035940660834888136,\n",
       " 'USNCM JPHM CAMSW USHW': 0.00031871778612227393,\n",
       " 'USNCM JPHM CAMSW RUHW': 0.00031871778612227393,\n",
       " 'USNCM JPHM CAMSW JPHW': 0.00031871778612227393,\n",
       " 'USNCM JPHM CAMSW CAHW': 0.00031871778612227393,\n",
       " 'USNCM JPHM CAMSW CNHW': 0.00031871778612227393,\n",
       " 'USNCM JPHM CAKRW USHW': 0.00030356986065226816,\n",
       " 'USNCM JPHM CAKRW RUHW': 0.00030356986065226816,\n",
       " 'USNCM JPHM CAKRW JPHW': 0.00030356986065226816,\n",
       " 'USNCM JPHM CAKRW CAHW': 0.00030356986065226816,\n",
       " 'USNCM JPHM CAKRW CNHW': 0.00030356986065226816,\n",
       " 'USNCM JPHM CNSLW USHW': 0.0002680605420897322,\n",
       " 'USNCM JPHM CNSLW RUHW': 0.0002680605420897322,\n",
       " 'USNCM JPHM CNSLW JPHW': 0.0002680605420897322,\n",
       " 'USNCM JPHM CNSLW CAHW': 0.0002680605420897322,\n",
       " 'USNCM JPHM CNSLW CNHW': 0.0002680605420897322,\n",
       " 'USNCM JPHM CNYZW USHW': 0.00025873743549440355,\n",
       " 'USNCM JPHM CNYZW RUHW': 0.00025873743549440355,\n",
       " 'USNCM JPHM CNYZW JPHW': 0.00025873743549440355,\n",
       " 'USNCM JPHM CNYZW CAHW': 0.00025873743549440355,\n",
       " 'USNCM JPHM CNYZW CNHW': 0.00025873743549440355,\n",
       " 'USNCM JPHM ITLGW USHW': 0.0002777232882695901,\n",
       " 'USNCM JPHM ITLGW RUHW': 0.0002777232882695901,\n",
       " 'USNCM JPHM ITLGW JPHW': 0.0002777232882695901,\n",
       " 'USNCM JPHM ITLGW CAHW': 0.0002777232882695901,\n",
       " 'USNCM JPHM ITLGW CNHW': 0.0002777232882695901,\n",
       " 'USNCM JPHM ITLBW USHW': 0.0002596035164349532,\n",
       " 'USNCM JPHM ITLBW RUHW': 0.0002596035164349532,\n",
       " 'USNCM JPHM ITLBW JPHW': 0.0002596035164349532,\n",
       " 'USNCM JPHM ITLBW CAHW': 0.0002596035164349532,\n",
       " 'USNCM JPHM ITLBW CNHW': 0.0002596035164349532,\n",
       " 'USNCM CAHM USALW USHW': 0.0003538365191626012,\n",
       " 'USNCM CAHM USALW RUHW': 0.0003538365191626012,\n",
       " 'USNCM CAHM USALW JPHW': 0.0003538365191626012,\n",
       " 'USNCM CAHM USALW CAHW': 0.0003538365191626012,\n",
       " 'USNCM CAHM USALW CNHW': 0.0003538365191626012,\n",
       " 'USNCM CAHM USILW USHW': 0.00034869097945698267,\n",
       " 'USNCM CAHM USILW RUHW': 0.00034869097945698267,\n",
       " 'USNCM CAHM USILW JPHW': 0.00034869097945698267,\n",
       " 'USNCM CAHM USILW CAHW': 0.00034869097945698267,\n",
       " 'USNCM CAHM USILW CNHW': 0.00034869097945698267,\n",
       " 'USNCM CAHM RUKVW USHW': 0.00044669398157290565,\n",
       " 'USNCM CAHM RUKVW RUHW': 0.00044669398157290565,\n",
       " 'USNCM CAHM RUKVW JPHW': 0.00044669398157290565,\n",
       " 'USNCM CAHM RUKVW CAHW': 0.00044669398157290565,\n",
       " 'USNCM CAHM RUKVW CNHW': 0.00044669398157290565,\n",
       " 'USNCM CAHM RUETW USHW': 0.00039364227846943245,\n",
       " 'USNCM CAHM RUETW RUHW': 0.00039364227846943245,\n",
       " 'USNCM CAHM RUETW JPHW': 0.00039364227846943245,\n",
       " 'USNCM CAHM RUETW CAHW': 0.00039364227846943245,\n",
       " 'USNCM CAHM RUETW CNHW': 0.00039364227846943245,\n",
       " 'USNCM CAHM JPKSW USHW': 0.00036315962575792984,\n",
       " 'USNCM CAHM JPKSW RUHW': 0.00036315962575792984,\n",
       " 'USNCM CAHM JPKSW JPHW': 0.00036315962575792984,\n",
       " 'USNCM CAHM JPKSW CAHW': 0.00036315962575792984,\n",
       " 'USNCM CAHM JPKSW CNHW': 0.00036315962575792984,\n",
       " 'USNCM CAHM JPMMW USHW': 0.00035940660834888136,\n",
       " 'USNCM CAHM JPMMW RUHW': 0.00035940660834888136,\n",
       " 'USNCM CAHM JPMMW JPHW': 0.00035940660834888136,\n",
       " 'USNCM CAHM JPMMW CAHW': 0.00035940660834888136,\n",
       " 'USNCM CAHM JPMMW CNHW': 0.00035940660834888136,\n",
       " 'USNCM CAHM CAMSW USHW': 0.00031871778612227393,\n",
       " 'USNCM CAHM CAMSW RUHW': 0.00031871778612227393,\n",
       " 'USNCM CAHM CAMSW JPHW': 0.00031871778612227393,\n",
       " 'USNCM CAHM CAMSW CAHW': 0.00031871778612227393,\n",
       " 'USNCM CAHM CAMSW CNHW': 0.00031871778612227393,\n",
       " 'USNCM CAHM CAKRW USHW': 0.00030356986065226816,\n",
       " 'USNCM CAHM CAKRW RUHW': 0.00030356986065226816,\n",
       " 'USNCM CAHM CAKRW JPHW': 0.00030356986065226816,\n",
       " 'USNCM CAHM CAKRW CAHW': 0.00030356986065226816,\n",
       " 'USNCM CAHM CAKRW CNHW': 0.00030356986065226816,\n",
       " 'USNCM CAHM CNSLW USHW': 0.0002680605420897322,\n",
       " 'USNCM CAHM CNSLW RUHW': 0.0002680605420897322,\n",
       " 'USNCM CAHM CNSLW JPHW': 0.0002680605420897322,\n",
       " 'USNCM CAHM CNSLW CAHW': 0.0002680605420897322,\n",
       " 'USNCM CAHM CNSLW CNHW': 0.0002680605420897322,\n",
       " 'USNCM CAHM CNYZW USHW': 0.00025873743549440355,\n",
       " 'USNCM CAHM CNYZW RUHW': 0.00025873743549440355,\n",
       " 'USNCM CAHM CNYZW JPHW': 0.00025873743549440355,\n",
       " 'USNCM CAHM CNYZW CAHW': 0.00025873743549440355,\n",
       " 'USNCM CAHM CNYZW CNHW': 0.00025873743549440355,\n",
       " 'USNCM CAHM ITLGW USHW': 0.0002777232882695901,\n",
       " 'USNCM CAHM ITLGW RUHW': 0.0002777232882695901,\n",
       " 'USNCM CAHM ITLGW JPHW': 0.0002777232882695901,\n",
       " 'USNCM CAHM ITLGW CAHW': 0.0002777232882695901,\n",
       " 'USNCM CAHM ITLGW CNHW': 0.0002777232882695901,\n",
       " 'USNCM CAHM ITLBW USHW': 0.0002596035164349532,\n",
       " 'USNCM CAHM ITLBW RUHW': 0.0002596035164349532,\n",
       " 'USNCM CAHM ITLBW JPHW': 0.0002596035164349532,\n",
       " 'USNCM CAHM ITLBW CAHW': 0.0002596035164349532,\n",
       " 'USNCM CAHM ITLBW CNHW': 0.0002596035164349532,\n",
       " 'USNCM CNHM USALW USHW': 0.0003538365191626012,\n",
       " 'USNCM CNHM USALW RUHW': 0.0003538365191626012,\n",
       " 'USNCM CNHM USALW JPHW': 0.0003538365191626012,\n",
       " 'USNCM CNHM USALW CAHW': 0.0003538365191626012,\n",
       " 'USNCM CNHM USALW CNHW': 0.0003538365191626012,\n",
       " 'USNCM CNHM USILW USHW': 0.00034869097945698267,\n",
       " 'USNCM CNHM USILW RUHW': 0.00034869097945698267,\n",
       " 'USNCM CNHM USILW JPHW': 0.00034869097945698267,\n",
       " 'USNCM CNHM USILW CAHW': 0.00034869097945698267,\n",
       " 'USNCM CNHM USILW CNHW': 0.00034869097945698267,\n",
       " 'USNCM CNHM RUKVW USHW': 0.00044669398157290565,\n",
       " 'USNCM CNHM RUKVW RUHW': 0.00044669398157290565,\n",
       " 'USNCM CNHM RUKVW JPHW': 0.00044669398157290565,\n",
       " 'USNCM CNHM RUKVW CAHW': 0.00044669398157290565,\n",
       " 'USNCM CNHM RUKVW CNHW': 0.00044669398157290565,\n",
       " 'USNCM CNHM RUETW USHW': 0.00039364227846943245,\n",
       " 'USNCM CNHM RUETW RUHW': 0.00039364227846943245,\n",
       " 'USNCM CNHM RUETW JPHW': 0.00039364227846943245,\n",
       " 'USNCM CNHM RUETW CAHW': 0.00039364227846943245,\n",
       " 'USNCM CNHM RUETW CNHW': 0.00039364227846943245,\n",
       " 'USNCM CNHM JPKSW USHW': 0.00036315962575792984,\n",
       " 'USNCM CNHM JPKSW RUHW': 0.00036315962575792984,\n",
       " 'USNCM CNHM JPKSW JPHW': 0.00036315962575792984,\n",
       " 'USNCM CNHM JPKSW CAHW': 0.00036315962575792984,\n",
       " 'USNCM CNHM JPKSW CNHW': 0.00036315962575792984,\n",
       " 'USNCM CNHM JPMMW USHW': 0.00035940660834888136,\n",
       " 'USNCM CNHM JPMMW RUHW': 0.00035940660834888136,\n",
       " 'USNCM CNHM JPMMW JPHW': 0.00035940660834888136,\n",
       " 'USNCM CNHM JPMMW CAHW': 0.00035940660834888136,\n",
       " 'USNCM CNHM JPMMW CNHW': 0.00035940660834888136,\n",
       " 'USNCM CNHM CAMSW USHW': 0.00031871778612227393,\n",
       " 'USNCM CNHM CAMSW RUHW': 0.00031871778612227393,\n",
       " 'USNCM CNHM CAMSW JPHW': 0.00031871778612227393,\n",
       " 'USNCM CNHM CAMSW CAHW': 0.00031871778612227393,\n",
       " 'USNCM CNHM CAMSW CNHW': 0.00031871778612227393,\n",
       " 'USNCM CNHM CAKRW USHW': 0.00030356986065226816,\n",
       " 'USNCM CNHM CAKRW RUHW': 0.00030356986065226816,\n",
       " 'USNCM CNHM CAKRW JPHW': 0.00030356986065226816,\n",
       " 'USNCM CNHM CAKRW CAHW': 0.00030356986065226816,\n",
       " 'USNCM CNHM CAKRW CNHW': 0.00030356986065226816,\n",
       " 'USNCM CNHM CNSLW USHW': 0.0002680605420897322,\n",
       " 'USNCM CNHM CNSLW RUHW': 0.0002680605420897322,\n",
       " 'USNCM CNHM CNSLW JPHW': 0.0002680605420897322,\n",
       " 'USNCM CNHM CNSLW CAHW': 0.0002680605420897322,\n",
       " 'USNCM CNHM CNSLW CNHW': 0.0002680605420897322,\n",
       " 'USNCM CNHM CNYZW USHW': 0.00025873743549440355,\n",
       " 'USNCM CNHM CNYZW RUHW': 0.00025873743549440355,\n",
       " 'USNCM CNHM CNYZW JPHW': 0.00025873743549440355,\n",
       " 'USNCM CNHM CNYZW CAHW': 0.00025873743549440355,\n",
       " 'USNCM CNHM CNYZW CNHW': 0.00025873743549440355,\n",
       " 'USNCM CNHM ITLGW USHW': 0.0002777232882695901,\n",
       " 'USNCM CNHM ITLGW RUHW': 0.0002777232882695901,\n",
       " 'USNCM CNHM ITLGW JPHW': 0.0002777232882695901,\n",
       " 'USNCM CNHM ITLGW CAHW': 0.0002777232882695901,\n",
       " 'USNCM CNHM ITLGW CNHW': 0.0002777232882695901,\n",
       " 'USNCM CNHM ITLBW USHW': 0.0002596035164349532,\n",
       " 'USNCM CNHM ITLBW RUHW': 0.0002596035164349532,\n",
       " 'USNCM CNHM ITLBW JPHW': 0.0002596035164349532,\n",
       " 'USNCM CNHM ITLBW CAHW': 0.0002596035164349532,\n",
       " 'USNCM CNHM ITLBW CNHW': 0.0002596035164349532,\n",
       " 'USVZM USHM USALW USHW': 0.0003294690281382702,\n",
       " 'USVZM USHM USALW RUHW': 0.0003294690281382702,\n",
       " 'USVZM USHM USALW JPHW': 0.0003294690281382702,\n",
       " 'USVZM USHM USALW CAHW': 0.0003294690281382702,\n",
       " 'USVZM USHM USALW CNHW': 0.0003294690281382702,\n",
       " 'USVZM USHM USILW USHW': 0.00032467784386461425,\n",
       " 'USVZM USHM USILW RUHW': 0.00032467784386461425,\n",
       " 'USVZM USHM USILW JPHW': 0.00032467784386461425,\n",
       " 'USVZM USHM USILW CAHW': 0.00032467784386461425,\n",
       " 'USVZM USHM USILW CNHW': 0.00032467784386461425,\n",
       " 'USVZM USHM RUKVW USHW': 0.00041593171991500573,\n",
       " 'USVZM USHM RUKVW RUHW': 0.00041593171991500573,\n",
       " 'USVZM USHM RUKVW JPHW': 0.00041593171991500573,\n",
       " 'USVZM USHM RUKVW CAHW': 0.00041593171991500573,\n",
       " 'USVZM USHM RUKVW CNHW': 0.00041593171991500573,\n",
       " 'USVZM USHM RUETW USHW': 0.000366533503179358,\n",
       " 'USVZM USHM RUETW RUHW': 0.000366533503179358,\n",
       " 'USVZM USHM RUETW JPHW': 0.000366533503179358,\n",
       " 'USVZM USHM RUETW CAHW': 0.000366533503179358,\n",
       " 'USVZM USHM RUETW CNHW': 0.000366533503179358,\n",
       " 'USVZM USHM JPKSW USHW': 0.0003381500847925181,\n",
       " 'USVZM USHM JPKSW RUHW': 0.0003381500847925181,\n",
       " 'USVZM USHM JPKSW JPHW': 0.0003381500847925181,\n",
       " 'USVZM USHM JPKSW CAHW': 0.0003381500847925181,\n",
       " 'USVZM USHM JPKSW CNHW': 0.0003381500847925181,\n",
       " 'USVZM USHM JPMMW USHW': 0.0003346555246457261,\n",
       " 'USVZM USHM JPMMW RUHW': 0.0003346555246457261,\n",
       " 'USVZM USHM JPMMW JPHW': 0.0003346555246457261,\n",
       " 'USVZM USHM JPMMW CAHW': 0.0003346555246457261,\n",
       " 'USVZM USHM JPMMW CNHW': 0.0003346555246457261,\n",
       " 'USVZM USHM CAMSW USHW': 0.00029676880015833444,\n",
       " 'USVZM USHM CAMSW RUHW': 0.00029676880015833444,\n",
       " 'USVZM USHM CAMSW JPHW': 0.00029676880015833444,\n",
       " 'USVZM USHM CAMSW CAHW': 0.00029676880015833444,\n",
       " 'USVZM USHM CAMSW CNHW': 0.00029676880015833444,\n",
       " 'USVZM USHM CAKRW USHW': 0.0002826640596563504,\n",
       " 'USVZM USHM CAKRW RUHW': 0.0002826640596563504,\n",
       " 'USVZM USHM CAKRW JPHW': 0.0002826640596563504,\n",
       " 'USVZM USHM CAKRW CAHW': 0.0002826640596563504,\n",
       " 'USVZM USHM CAKRW CNHW': 0.0002826640596563504,\n",
       " 'USVZM USHM CNSLW USHW': 0.0002496001444213186,\n",
       " 'USVZM USHM CNSLW RUHW': 0.0002496001444213186,\n",
       " 'USVZM USHM CNSLW JPHW': 0.0002496001444213186,\n",
       " 'USVZM USHM CNSLW CAHW': 0.0002496001444213186,\n",
       " 'USVZM USHM CNSLW CNHW': 0.0002496001444213186,\n",
       " 'USVZM USHM CNYZW USHW': 0.00024091908776707069,\n",
       " 'USVZM USHM CNYZW RUHW': 0.00024091908776707069,\n",
       " 'USVZM USHM CNYZW JPHW': 0.00024091908776707069,\n",
       " 'USVZM USHM CNYZW CAHW': 0.00024091908776707069,\n",
       " 'USVZM USHM CNYZW CNHW': 0.00024091908776707069,\n",
       " 'USVZM USHM ITLGW USHW': 0.00025859745086260664,\n",
       " 'USVZM USHM ITLGW RUHW': 0.00025859745086260664,\n",
       " 'USVZM USHM ITLGW JPHW': 0.00025859745086260664,\n",
       " 'USVZM USHM ITLGW CAHW': 0.00025859745086260664,\n",
       " 'USVZM USHM ITLGW CNHW': 0.00025859745086260664,\n",
       " 'USVZM USHM ITLBW USHW': 0.00024172552472402268,\n",
       " 'USVZM USHM ITLBW RUHW': 0.00024172552472402268,\n",
       " 'USVZM USHM ITLBW JPHW': 0.00024172552472402268,\n",
       " 'USVZM USHM ITLBW CAHW': 0.00024172552472402268,\n",
       " 'USVZM USHM ITLBW CNHW': 0.00024172552472402268,\n",
       " 'USVZM RUHM USALW USHW': 0.0003294690281382702,\n",
       " 'USVZM RUHM USALW RUHW': 0.0003294690281382702,\n",
       " 'USVZM RUHM USALW JPHW': 0.0003294690281382702,\n",
       " 'USVZM RUHM USALW CAHW': 0.0003294690281382702,\n",
       " 'USVZM RUHM USALW CNHW': 0.0003294690281382702,\n",
       " 'USVZM RUHM USILW USHW': 0.00032467784386461425,\n",
       " 'USVZM RUHM USILW RUHW': 0.00032467784386461425,\n",
       " 'USVZM RUHM USILW JPHW': 0.00032467784386461425,\n",
       " 'USVZM RUHM USILW CAHW': 0.00032467784386461425,\n",
       " 'USVZM RUHM USILW CNHW': 0.00032467784386461425,\n",
       " 'USVZM RUHM RUKVW USHW': 0.00041593171991500573,\n",
       " 'USVZM RUHM RUKVW RUHW': 0.00041593171991500573,\n",
       " 'USVZM RUHM RUKVW JPHW': 0.00041593171991500573,\n",
       " 'USVZM RUHM RUKVW CAHW': 0.00041593171991500573,\n",
       " 'USVZM RUHM RUKVW CNHW': 0.00041593171991500573,\n",
       " 'USVZM RUHM RUETW USHW': 0.000366533503179358,\n",
       " 'USVZM RUHM RUETW RUHW': 0.000366533503179358,\n",
       " 'USVZM RUHM RUETW JPHW': 0.000366533503179358,\n",
       " 'USVZM RUHM RUETW CAHW': 0.000366533503179358,\n",
       " 'USVZM RUHM RUETW CNHW': 0.000366533503179358,\n",
       " 'USVZM RUHM JPKSW USHW': 0.0003381500847925181,\n",
       " 'USVZM RUHM JPKSW RUHW': 0.0003381500847925181,\n",
       " 'USVZM RUHM JPKSW JPHW': 0.0003381500847925181,\n",
       " 'USVZM RUHM JPKSW CAHW': 0.0003381500847925181,\n",
       " 'USVZM RUHM JPKSW CNHW': 0.0003381500847925181,\n",
       " 'USVZM RUHM JPMMW USHW': 0.0003346555246457261,\n",
       " 'USVZM RUHM JPMMW RUHW': 0.0003346555246457261,\n",
       " 'USVZM RUHM JPMMW JPHW': 0.0003346555246457261,\n",
       " 'USVZM RUHM JPMMW CAHW': 0.0003346555246457261,\n",
       " 'USVZM RUHM JPMMW CNHW': 0.0003346555246457261,\n",
       " 'USVZM RUHM CAMSW USHW': 0.00029676880015833444,\n",
       " 'USVZM RUHM CAMSW RUHW': 0.00029676880015833444,\n",
       " 'USVZM RUHM CAMSW JPHW': 0.00029676880015833444,\n",
       " 'USVZM RUHM CAMSW CAHW': 0.00029676880015833444,\n",
       " 'USVZM RUHM CAMSW CNHW': 0.00029676880015833444,\n",
       " 'USVZM RUHM CAKRW USHW': 0.0002826640596563504,\n",
       " 'USVZM RUHM CAKRW RUHW': 0.0002826640596563504,\n",
       " 'USVZM RUHM CAKRW JPHW': 0.0002826640596563504,\n",
       " 'USVZM RUHM CAKRW CAHW': 0.0002826640596563504,\n",
       " 'USVZM RUHM CAKRW CNHW': 0.0002826640596563504,\n",
       " 'USVZM RUHM CNSLW USHW': 0.0002496001444213186,\n",
       " 'USVZM RUHM CNSLW RUHW': 0.0002496001444213186,\n",
       " 'USVZM RUHM CNSLW JPHW': 0.0002496001444213186,\n",
       " 'USVZM RUHM CNSLW CAHW': 0.0002496001444213186,\n",
       " 'USVZM RUHM CNSLW CNHW': 0.0002496001444213186,\n",
       " 'USVZM RUHM CNYZW USHW': 0.00024091908776707069,\n",
       " 'USVZM RUHM CNYZW RUHW': 0.00024091908776707069,\n",
       " 'USVZM RUHM CNYZW JPHW': 0.00024091908776707069,\n",
       " 'USVZM RUHM CNYZW CAHW': 0.00024091908776707069,\n",
       " 'USVZM RUHM CNYZW CNHW': 0.00024091908776707069,\n",
       " 'USVZM RUHM ITLGW USHW': 0.00025859745086260664,\n",
       " 'USVZM RUHM ITLGW RUHW': 0.00025859745086260664,\n",
       " 'USVZM RUHM ITLGW JPHW': 0.00025859745086260664,\n",
       " 'USVZM RUHM ITLGW CAHW': 0.00025859745086260664,\n",
       " 'USVZM RUHM ITLGW CNHW': 0.00025859745086260664,\n",
       " 'USVZM RUHM ITLBW USHW': 0.00024172552472402268,\n",
       " 'USVZM RUHM ITLBW RUHW': 0.00024172552472402268,\n",
       " 'USVZM RUHM ITLBW JPHW': 0.00024172552472402268,\n",
       " 'USVZM RUHM ITLBW CAHW': 0.00024172552472402268,\n",
       " 'USVZM RUHM ITLBW CNHW': 0.00024172552472402268,\n",
       " 'USVZM JPHM USALW USHW': 0.0003294690281382702,\n",
       " 'USVZM JPHM USALW RUHW': 0.0003294690281382702,\n",
       " 'USVZM JPHM USALW JPHW': 0.0003294690281382702,\n",
       " 'USVZM JPHM USALW CAHW': 0.0003294690281382702,\n",
       " 'USVZM JPHM USALW CNHW': 0.0003294690281382702,\n",
       " 'USVZM JPHM USILW USHW': 0.00032467784386461425,\n",
       " 'USVZM JPHM USILW RUHW': 0.00032467784386461425,\n",
       " 'USVZM JPHM USILW JPHW': 0.00032467784386461425,\n",
       " 'USVZM JPHM USILW CAHW': 0.00032467784386461425,\n",
       " 'USVZM JPHM USILW CNHW': 0.00032467784386461425,\n",
       " 'USVZM JPHM RUKVW USHW': 0.00041593171991500573,\n",
       " 'USVZM JPHM RUKVW RUHW': 0.00041593171991500573,\n",
       " 'USVZM JPHM RUKVW JPHW': 0.00041593171991500573,\n",
       " 'USVZM JPHM RUKVW CAHW': 0.00041593171991500573,\n",
       " 'USVZM JPHM RUKVW CNHW': 0.00041593171991500573,\n",
       " 'USVZM JPHM RUETW USHW': 0.000366533503179358,\n",
       " 'USVZM JPHM RUETW RUHW': 0.000366533503179358,\n",
       " 'USVZM JPHM RUETW JPHW': 0.000366533503179358,\n",
       " 'USVZM JPHM RUETW CAHW': 0.000366533503179358,\n",
       " 'USVZM JPHM RUETW CNHW': 0.000366533503179358,\n",
       " 'USVZM JPHM JPKSW USHW': 0.0003381500847925181,\n",
       " 'USVZM JPHM JPKSW RUHW': 0.0003381500847925181,\n",
       " 'USVZM JPHM JPKSW JPHW': 0.0003381500847925181,\n",
       " 'USVZM JPHM JPKSW CAHW': 0.0003381500847925181,\n",
       " 'USVZM JPHM JPKSW CNHW': 0.0003381500847925181,\n",
       " 'USVZM JPHM JPMMW USHW': 0.0003346555246457261,\n",
       " 'USVZM JPHM JPMMW RUHW': 0.0003346555246457261,\n",
       " 'USVZM JPHM JPMMW JPHW': 0.0003346555246457261,\n",
       " 'USVZM JPHM JPMMW CAHW': 0.0003346555246457261,\n",
       " 'USVZM JPHM JPMMW CNHW': 0.0003346555246457261,\n",
       " 'USVZM JPHM CAMSW USHW': 0.00029676880015833444,\n",
       " 'USVZM JPHM CAMSW RUHW': 0.00029676880015833444,\n",
       " 'USVZM JPHM CAMSW JPHW': 0.00029676880015833444,\n",
       " 'USVZM JPHM CAMSW CAHW': 0.00029676880015833444,\n",
       " 'USVZM JPHM CAMSW CNHW': 0.00029676880015833444,\n",
       " 'USVZM JPHM CAKRW USHW': 0.0002826640596563504,\n",
       " 'USVZM JPHM CAKRW RUHW': 0.0002826640596563504,\n",
       " 'USVZM JPHM CAKRW JPHW': 0.0002826640596563504,\n",
       " 'USVZM JPHM CAKRW CAHW': 0.0002826640596563504,\n",
       " 'USVZM JPHM CAKRW CNHW': 0.0002826640596563504,\n",
       " 'USVZM JPHM CNSLW USHW': 0.0002496001444213186,\n",
       " 'USVZM JPHM CNSLW RUHW': 0.0002496001444213186,\n",
       " 'USVZM JPHM CNSLW JPHW': 0.0002496001444213186,\n",
       " 'USVZM JPHM CNSLW CAHW': 0.0002496001444213186,\n",
       " 'USVZM JPHM CNSLW CNHW': 0.0002496001444213186,\n",
       " 'USVZM JPHM CNYZW USHW': 0.00024091908776707069,\n",
       " 'USVZM JPHM CNYZW RUHW': 0.00024091908776707069,\n",
       " 'USVZM JPHM CNYZW JPHW': 0.00024091908776707069,\n",
       " 'USVZM JPHM CNYZW CAHW': 0.00024091908776707069,\n",
       " 'USVZM JPHM CNYZW CNHW': 0.00024091908776707069,\n",
       " 'USVZM JPHM ITLGW USHW': 0.00025859745086260664,\n",
       " 'USVZM JPHM ITLGW RUHW': 0.00025859745086260664,\n",
       " 'USVZM JPHM ITLGW JPHW': 0.00025859745086260664,\n",
       " 'USVZM JPHM ITLGW CAHW': 0.00025859745086260664,\n",
       " 'USVZM JPHM ITLGW CNHW': 0.00025859745086260664,\n",
       " 'USVZM JPHM ITLBW USHW': 0.00024172552472402268,\n",
       " 'USVZM JPHM ITLBW RUHW': 0.00024172552472402268,\n",
       " 'USVZM JPHM ITLBW JPHW': 0.00024172552472402268,\n",
       " 'USVZM JPHM ITLBW CAHW': 0.00024172552472402268,\n",
       " 'USVZM JPHM ITLBW CNHW': 0.00024172552472402268,\n",
       " 'USVZM CAHM USALW USHW': 0.0003294690281382702,\n",
       " 'USVZM CAHM USALW RUHW': 0.0003294690281382702,\n",
       " 'USVZM CAHM USALW JPHW': 0.0003294690281382702,\n",
       " 'USVZM CAHM USALW CAHW': 0.0003294690281382702,\n",
       " 'USVZM CAHM USALW CNHW': 0.0003294690281382702,\n",
       " 'USVZM CAHM USILW USHW': 0.00032467784386461425,\n",
       " 'USVZM CAHM USILW RUHW': 0.00032467784386461425,\n",
       " 'USVZM CAHM USILW JPHW': 0.00032467784386461425,\n",
       " 'USVZM CAHM USILW CAHW': 0.00032467784386461425,\n",
       " 'USVZM CAHM USILW CNHW': 0.00032467784386461425,\n",
       " 'USVZM CAHM RUKVW USHW': 0.00041593171991500573,\n",
       " 'USVZM CAHM RUKVW RUHW': 0.00041593171991500573,\n",
       " 'USVZM CAHM RUKVW JPHW': 0.00041593171991500573,\n",
       " 'USVZM CAHM RUKVW CAHW': 0.00041593171991500573,\n",
       " 'USVZM CAHM RUKVW CNHW': 0.00041593171991500573,\n",
       " 'USVZM CAHM RUETW USHW': 0.000366533503179358,\n",
       " 'USVZM CAHM RUETW RUHW': 0.000366533503179358,\n",
       " 'USVZM CAHM RUETW JPHW': 0.000366533503179358,\n",
       " 'USVZM CAHM RUETW CAHW': 0.000366533503179358,\n",
       " 'USVZM CAHM RUETW CNHW': 0.000366533503179358,\n",
       " 'USVZM CAHM JPKSW USHW': 0.0003381500847925181,\n",
       " 'USVZM CAHM JPKSW RUHW': 0.0003381500847925181,\n",
       " 'USVZM CAHM JPKSW JPHW': 0.0003381500847925181,\n",
       " 'USVZM CAHM JPKSW CAHW': 0.0003381500847925181,\n",
       " 'USVZM CAHM JPKSW CNHW': 0.0003381500847925181,\n",
       " 'USVZM CAHM JPMMW USHW': 0.0003346555246457261,\n",
       " 'USVZM CAHM JPMMW RUHW': 0.0003346555246457261,\n",
       " 'USVZM CAHM JPMMW JPHW': 0.0003346555246457261,\n",
       " 'USVZM CAHM JPMMW CAHW': 0.0003346555246457261,\n",
       " 'USVZM CAHM JPMMW CNHW': 0.0003346555246457261,\n",
       " 'USVZM CAHM CAMSW USHW': 0.00029676880015833444,\n",
       " 'USVZM CAHM CAMSW RUHW': 0.00029676880015833444,\n",
       " 'USVZM CAHM CAMSW JPHW': 0.00029676880015833444,\n",
       " 'USVZM CAHM CAMSW CAHW': 0.00029676880015833444,\n",
       " 'USVZM CAHM CAMSW CNHW': 0.00029676880015833444,\n",
       " 'USVZM CAHM CAKRW USHW': 0.0002826640596563504,\n",
       " 'USVZM CAHM CAKRW RUHW': 0.0002826640596563504,\n",
       " 'USVZM CAHM CAKRW JPHW': 0.0002826640596563504,\n",
       " 'USVZM CAHM CAKRW CAHW': 0.0002826640596563504,\n",
       " 'USVZM CAHM CAKRW CNHW': 0.0002826640596563504,\n",
       " 'USVZM CAHM CNSLW USHW': 0.0002496001444213186,\n",
       " 'USVZM CAHM CNSLW RUHW': 0.0002496001444213186,\n",
       " 'USVZM CAHM CNSLW JPHW': 0.0002496001444213186,\n",
       " 'USVZM CAHM CNSLW CAHW': 0.0002496001444213186,\n",
       " 'USVZM CAHM CNSLW CNHW': 0.0002496001444213186,\n",
       " 'USVZM CAHM CNYZW USHW': 0.00024091908776707069,\n",
       " 'USVZM CAHM CNYZW RUHW': 0.00024091908776707069,\n",
       " 'USVZM CAHM CNYZW JPHW': 0.00024091908776707069,\n",
       " 'USVZM CAHM CNYZW CAHW': 0.00024091908776707069,\n",
       " 'USVZM CAHM CNYZW CNHW': 0.00024091908776707069,\n",
       " 'USVZM CAHM ITLGW USHW': 0.00025859745086260664,\n",
       " 'USVZM CAHM ITLGW RUHW': 0.00025859745086260664,\n",
       " 'USVZM CAHM ITLGW JPHW': 0.00025859745086260664,\n",
       " 'USVZM CAHM ITLGW CAHW': 0.00025859745086260664,\n",
       " 'USVZM CAHM ITLGW CNHW': 0.00025859745086260664,\n",
       " 'USVZM CAHM ITLBW USHW': 0.00024172552472402268,\n",
       " 'USVZM CAHM ITLBW RUHW': 0.00024172552472402268,\n",
       " 'USVZM CAHM ITLBW JPHW': 0.00024172552472402268,\n",
       " 'USVZM CAHM ITLBW CAHW': 0.00024172552472402268,\n",
       " 'USVZM CAHM ITLBW CNHW': 0.00024172552472402268,\n",
       " 'USVZM CNHM USALW USHW': 0.0003294690281382702,\n",
       " 'USVZM CNHM USALW RUHW': 0.0003294690281382702,\n",
       " 'USVZM CNHM USALW JPHW': 0.0003294690281382702,\n",
       " 'USVZM CNHM USALW CAHW': 0.0003294690281382702,\n",
       " 'USVZM CNHM USALW CNHW': 0.0003294690281382702,\n",
       " 'USVZM CNHM USILW USHW': 0.00032467784386461425,\n",
       " 'USVZM CNHM USILW RUHW': 0.00032467784386461425,\n",
       " 'USVZM CNHM USILW JPHW': 0.00032467784386461425,\n",
       " 'USVZM CNHM USILW CAHW': 0.00032467784386461425,\n",
       " 'USVZM CNHM USILW CNHW': 0.00032467784386461425,\n",
       " 'USVZM CNHM RUKVW USHW': 0.00041593171991500573,\n",
       " 'USVZM CNHM RUKVW RUHW': 0.00041593171991500573,\n",
       " 'USVZM CNHM RUKVW JPHW': 0.00041593171991500573,\n",
       " 'USVZM CNHM RUKVW CAHW': 0.00041593171991500573,\n",
       " 'USVZM CNHM RUKVW CNHW': 0.00041593171991500573,\n",
       " 'USVZM CNHM RUETW USHW': 0.000366533503179358,\n",
       " 'USVZM CNHM RUETW RUHW': 0.000366533503179358,\n",
       " 'USVZM CNHM RUETW JPHW': 0.000366533503179358,\n",
       " 'USVZM CNHM RUETW CAHW': 0.000366533503179358,\n",
       " 'USVZM CNHM RUETW CNHW': 0.000366533503179358,\n",
       " 'USVZM CNHM JPKSW USHW': 0.0003381500847925181,\n",
       " 'USVZM CNHM JPKSW RUHW': 0.0003381500847925181,\n",
       " 'USVZM CNHM JPKSW JPHW': 0.0003381500847925181,\n",
       " 'USVZM CNHM JPKSW CAHW': 0.0003381500847925181,\n",
       " 'USVZM CNHM JPKSW CNHW': 0.0003381500847925181,\n",
       " 'USVZM CNHM JPMMW USHW': 0.0003346555246457261,\n",
       " 'USVZM CNHM JPMMW RUHW': 0.0003346555246457261,\n",
       " 'USVZM CNHM JPMMW JPHW': 0.0003346555246457261,\n",
       " 'USVZM CNHM JPMMW CAHW': 0.0003346555246457261,\n",
       " 'USVZM CNHM JPMMW CNHW': 0.0003346555246457261,\n",
       " 'USVZM CNHM CAMSW USHW': 0.00029676880015833444,\n",
       " 'USVZM CNHM CAMSW RUHW': 0.00029676880015833444,\n",
       " 'USVZM CNHM CAMSW JPHW': 0.00029676880015833444,\n",
       " 'USVZM CNHM CAMSW CAHW': 0.00029676880015833444,\n",
       " 'USVZM CNHM CAMSW CNHW': 0.00029676880015833444,\n",
       " 'USVZM CNHM CAKRW USHW': 0.0002826640596563504,\n",
       " 'USVZM CNHM CAKRW RUHW': 0.0002826640596563504,\n",
       " 'USVZM CNHM CAKRW JPHW': 0.0002826640596563504,\n",
       " 'USVZM CNHM CAKRW CAHW': 0.0002826640596563504,\n",
       " 'USVZM CNHM CAKRW CNHW': 0.0002826640596563504,\n",
       " 'USVZM CNHM CNSLW USHW': 0.0002496001444213186,\n",
       " 'USVZM CNHM CNSLW RUHW': 0.0002496001444213186,\n",
       " 'USVZM CNHM CNSLW JPHW': 0.0002496001444213186,\n",
       " 'USVZM CNHM CNSLW CAHW': 0.0002496001444213186,\n",
       " 'USVZM CNHM CNSLW CNHW': 0.0002496001444213186,\n",
       " 'USVZM CNHM CNYZW USHW': 0.00024091908776707069,\n",
       " 'USVZM CNHM CNYZW RUHW': 0.00024091908776707069,\n",
       " 'USVZM CNHM CNYZW JPHW': 0.00024091908776707069,\n",
       " 'USVZM CNHM CNYZW CAHW': 0.00024091908776707069,\n",
       " 'USVZM CNHM CNYZW CNHW': 0.00024091908776707069,\n",
       " 'USVZM CNHM ITLGW USHW': 0.00025859745086260664,\n",
       " 'USVZM CNHM ITLGW RUHW': 0.00025859745086260664,\n",
       " 'USVZM CNHM ITLGW JPHW': 0.00025859745086260664,\n",
       " 'USVZM CNHM ITLGW CAHW': 0.00025859745086260664,\n",
       " 'USVZM CNHM ITLGW CNHW': 0.00025859745086260664,\n",
       " 'USVZM CNHM ITLBW USHW': 0.00024172552472402268,\n",
       " 'USVZM CNHM ITLBW RUHW': 0.00024172552472402268,\n",
       " 'USVZM CNHM ITLBW JPHW': 0.00024172552472402268,\n",
       " 'USVZM CNHM ITLBW CAHW': 0.00024172552472402268,\n",
       " 'USVZM CNHM ITLBW CNHW': 0.00024172552472402268,\n",
       " 'RUMKM USHM USALW USHW': 0.0003094799794398253,\n",
       " 'RUMKM USHM USALW RUHW': 0.0003094799794398253,\n",
       " 'RUMKM USHM USALW JPHW': 0.0003094799794398253,\n",
       " 'RUMKM USHM USALW CAHW': 0.0003094799794398253,\n",
       " 'RUMKM USHM USALW CNHW': 0.0003094799794398253,\n",
       " 'RUMKM USHM USILW USHW': 0.0003049794786829494,\n",
       " 'RUMKM USHM USILW RUHW': 0.0003049794786829494,\n",
       " 'RUMKM USHM USILW JPHW': 0.0003049794786829494,\n",
       " 'RUMKM USHM USILW CAHW': 0.0003049794786829494,\n",
       " 'RUMKM USHM USILW CNHW': 0.0003049794786829494,\n",
       " 'RUMKM USHM RUKVW USHW': 0.0003906969369929528,\n",
       " 'RUMKM USHM RUKVW RUHW': 0.0003906969369929528,\n",
       " 'RUMKM USHM RUKVW JPHW': 0.0003906969369929528,\n",
       " 'RUMKM USHM RUKVW CAHW': 0.0003906969369929528,\n",
       " 'RUMKM USHM RUKVW CNHW': 0.0003906969369929528,\n",
       " 'RUMKM USHM RUETW USHW': 0.00034429573446991506,\n",
       " 'RUMKM USHM RUETW RUHW': 0.00034429573446991506,\n",
       " 'RUMKM USHM RUETW JPHW': 0.00034429573446991506,\n",
       " 'RUMKM USHM RUETW CAHW': 0.00034429573446991506,\n",
       " 'RUMKM USHM RUETW CNHW': 0.00034429573446991506,\n",
       " 'RUMKM USHM JPKSW USHW': 0.0003176343520983232,\n",
       " 'RUMKM USHM JPKSW RUHW': 0.0003176343520983232,\n",
       " 'RUMKM USHM JPKSW JPHW': 0.0003176343520983232,\n",
       " 'RUMKM USHM JPKSW CAHW': 0.0003176343520983232,\n",
       " 'RUMKM USHM JPKSW CNHW': 0.0003176343520983232,\n",
       " 'RUMKM USHM JPMMW USHW': 0.000314351808641988,\n",
       " 'RUMKM USHM JPMMW RUHW': 0.000314351808641988,\n",
       " 'RUMKM USHM JPMMW JPHW': 0.000314351808641988,\n",
       " 'RUMKM USHM JPMMW CAHW': 0.000314351808641988,\n",
       " 'RUMKM USHM JPMMW CNHW': 0.000314351808641988,\n",
       " 'RUMKM USHM CAMSW USHW': 0.0002787636904457017,\n",
       " 'RUMKM USHM CAMSW RUHW': 0.0002787636904457017,\n",
       " 'RUMKM USHM CAMSW JPHW': 0.0002787636904457017,\n",
       " 'RUMKM USHM CAMSW CAHW': 0.0002787636904457017,\n",
       " 'RUMKM USHM CAMSW CNHW': 0.0002787636904457017,\n",
       " 'RUMKM USHM CAKRW USHW': 0.0002655146915178689,\n",
       " 'RUMKM USHM CAKRW RUHW': 0.0002655146915178689,\n",
       " 'RUMKM USHM CAKRW JPHW': 0.0002655146915178689,\n",
       " 'RUMKM USHM CAKRW CAHW': 0.0002655146915178689,\n",
       " 'RUMKM USHM CAKRW CNHW': 0.0002655146915178689,\n",
       " 'RUMKM USHM CNSLW USHW': 0.00023445678035408142,\n",
       " 'RUMKM USHM CNSLW RUHW': 0.00023445678035408142,\n",
       " 'RUMKM USHM CNSLW JPHW': 0.00023445678035408142,\n",
       " 'RUMKM USHM CNSLW CAHW': 0.00023445678035408142,\n",
       " 'RUMKM USHM CNSLW CNHW': 0.00023445678035408142,\n",
       " 'RUMKM USHM CNYZW USHW': 0.00022630240769558349,\n",
       " 'RUMKM USHM CNYZW RUHW': 0.00022630240769558349,\n",
       " 'RUMKM USHM CNYZW JPHW': 0.00022630240769558349,\n",
       " 'RUMKM USHM CNYZW CAHW': 0.00022630240769558349,\n",
       " 'RUMKM USHM CNYZW CNHW': 0.00022630240769558349,\n",
       " 'RUMKM USHM ITLGW USHW': 0.00024290821576880892,\n",
       " 'RUMKM USHM ITLGW RUHW': 0.00024290821576880892,\n",
       " 'RUMKM USHM ITLGW JPHW': 0.00024290821576880892,\n",
       " 'RUMKM USHM ITLGW CAHW': 0.00024290821576880892,\n",
       " 'RUMKM USHM ITLGW CNHW': 0.00024290821576880892,\n",
       " 'RUMKM USHM ITLBW USHW': 0.00022705991772396854,\n",
       " 'RUMKM USHM ITLBW RUHW': 0.00022705991772396854,\n",
       " 'RUMKM USHM ITLBW JPHW': 0.00022705991772396854,\n",
       " 'RUMKM USHM ITLBW CAHW': 0.00022705991772396854,\n",
       " 'RUMKM USHM ITLBW CNHW': 0.00022705991772396854,\n",
       " 'RUMKM RUHM USALW USHW': 0.0003094799794398253,\n",
       " 'RUMKM RUHM USALW RUHW': 0.0003094799794398253,\n",
       " 'RUMKM RUHM USALW JPHW': 0.0003094799794398253,\n",
       " 'RUMKM RUHM USALW CAHW': 0.0003094799794398253,\n",
       " 'RUMKM RUHM USALW CNHW': 0.0003094799794398253,\n",
       " 'RUMKM RUHM USILW USHW': 0.0003049794786829494,\n",
       " 'RUMKM RUHM USILW RUHW': 0.0003049794786829494,\n",
       " 'RUMKM RUHM USILW JPHW': 0.0003049794786829494,\n",
       " 'RUMKM RUHM USILW CAHW': 0.0003049794786829494,\n",
       " 'RUMKM RUHM USILW CNHW': 0.0003049794786829494,\n",
       " 'RUMKM RUHM RUKVW USHW': 0.0003906969369929528,\n",
       " 'RUMKM RUHM RUKVW RUHW': 0.0003906969369929528,\n",
       " 'RUMKM RUHM RUKVW JPHW': 0.0003906969369929528,\n",
       " 'RUMKM RUHM RUKVW CAHW': 0.0003906969369929528,\n",
       " 'RUMKM RUHM RUKVW CNHW': 0.0003906969369929528,\n",
       " 'RUMKM RUHM RUETW USHW': 0.00034429573446991506,\n",
       " 'RUMKM RUHM RUETW RUHW': 0.00034429573446991506,\n",
       " 'RUMKM RUHM RUETW JPHW': 0.00034429573446991506,\n",
       " 'RUMKM RUHM RUETW CAHW': 0.00034429573446991506,\n",
       " 'RUMKM RUHM RUETW CNHW': 0.00034429573446991506,\n",
       " 'RUMKM RUHM JPKSW USHW': 0.0003176343520983232,\n",
       " 'RUMKM RUHM JPKSW RUHW': 0.0003176343520983232,\n",
       " 'RUMKM RUHM JPKSW JPHW': 0.0003176343520983232,\n",
       " 'RUMKM RUHM JPKSW CAHW': 0.0003176343520983232,\n",
       " 'RUMKM RUHM JPKSW CNHW': 0.0003176343520983232,\n",
       " 'RUMKM RUHM JPMMW USHW': 0.000314351808641988,\n",
       " 'RUMKM RUHM JPMMW RUHW': 0.000314351808641988,\n",
       " 'RUMKM RUHM JPMMW JPHW': 0.000314351808641988,\n",
       " 'RUMKM RUHM JPMMW CAHW': 0.000314351808641988,\n",
       " 'RUMKM RUHM JPMMW CNHW': 0.000314351808641988,\n",
       " 'RUMKM RUHM CAMSW USHW': 0.0002787636904457017,\n",
       " 'RUMKM RUHM CAMSW RUHW': 0.0002787636904457017,\n",
       " 'RUMKM RUHM CAMSW JPHW': 0.0002787636904457017,\n",
       " 'RUMKM RUHM CAMSW CAHW': 0.0002787636904457017,\n",
       " 'RUMKM RUHM CAMSW CNHW': 0.0002787636904457017,\n",
       " 'RUMKM RUHM CAKRW USHW': 0.0002655146915178689,\n",
       " 'RUMKM RUHM CAKRW RUHW': 0.0002655146915178689,\n",
       " 'RUMKM RUHM CAKRW JPHW': 0.0002655146915178689,\n",
       " 'RUMKM RUHM CAKRW CAHW': 0.0002655146915178689,\n",
       " 'RUMKM RUHM CAKRW CNHW': 0.0002655146915178689,\n",
       " 'RUMKM RUHM CNSLW USHW': 0.00023445678035408142,\n",
       " 'RUMKM RUHM CNSLW RUHW': 0.00023445678035408142,\n",
       " 'RUMKM RUHM CNSLW JPHW': 0.00023445678035408142,\n",
       " 'RUMKM RUHM CNSLW CAHW': 0.00023445678035408142,\n",
       " 'RUMKM RUHM CNSLW CNHW': 0.00023445678035408142,\n",
       " 'RUMKM RUHM CNYZW USHW': 0.00022630240769558349,\n",
       " 'RUMKM RUHM CNYZW RUHW': 0.00022630240769558349,\n",
       " 'RUMKM RUHM CNYZW JPHW': 0.00022630240769558349,\n",
       " 'RUMKM RUHM CNYZW CAHW': 0.00022630240769558349,\n",
       " 'RUMKM RUHM CNYZW CNHW': 0.00022630240769558349,\n",
       " 'RUMKM RUHM ITLGW USHW': 0.00024290821576880892,\n",
       " 'RUMKM RUHM ITLGW RUHW': 0.00024290821576880892,\n",
       " 'RUMKM RUHM ITLGW JPHW': 0.00024290821576880892,\n",
       " 'RUMKM RUHM ITLGW CAHW': 0.00024290821576880892,\n",
       " 'RUMKM RUHM ITLGW CNHW': 0.00024290821576880892,\n",
       " 'RUMKM RUHM ITLBW USHW': 0.00022705991772396854,\n",
       " 'RUMKM RUHM ITLBW RUHW': 0.00022705991772396854,\n",
       " 'RUMKM RUHM ITLBW JPHW': 0.00022705991772396854,\n",
       " 'RUMKM RUHM ITLBW CAHW': 0.00022705991772396854,\n",
       " 'RUMKM RUHM ITLBW CNHW': 0.00022705991772396854,\n",
       " 'RUMKM JPHM USALW USHW': 0.0003094799794398253,\n",
       " 'RUMKM JPHM USALW RUHW': 0.0003094799794398253,\n",
       " 'RUMKM JPHM USALW JPHW': 0.0003094799794398253,\n",
       " 'RUMKM JPHM USALW CAHW': 0.0003094799794398253,\n",
       " 'RUMKM JPHM USALW CNHW': 0.0003094799794398253,\n",
       " 'RUMKM JPHM USILW USHW': 0.0003049794786829494,\n",
       " 'RUMKM JPHM USILW RUHW': 0.0003049794786829494,\n",
       " 'RUMKM JPHM USILW JPHW': 0.0003049794786829494,\n",
       " 'RUMKM JPHM USILW CAHW': 0.0003049794786829494,\n",
       " 'RUMKM JPHM USILW CNHW': 0.0003049794786829494,\n",
       " 'RUMKM JPHM RUKVW USHW': 0.0003906969369929528,\n",
       " 'RUMKM JPHM RUKVW RUHW': 0.0003906969369929528,\n",
       " 'RUMKM JPHM RUKVW JPHW': 0.0003906969369929528,\n",
       " 'RUMKM JPHM RUKVW CAHW': 0.0003906969369929528,\n",
       " 'RUMKM JPHM RUKVW CNHW': 0.0003906969369929528,\n",
       " 'RUMKM JPHM RUETW USHW': 0.00034429573446991506,\n",
       " 'RUMKM JPHM RUETW RUHW': 0.00034429573446991506,\n",
       " 'RUMKM JPHM RUETW JPHW': 0.00034429573446991506,\n",
       " 'RUMKM JPHM RUETW CAHW': 0.00034429573446991506,\n",
       " 'RUMKM JPHM RUETW CNHW': 0.00034429573446991506,\n",
       " 'RUMKM JPHM JPKSW USHW': 0.0003176343520983232,\n",
       " 'RUMKM JPHM JPKSW RUHW': 0.0003176343520983232,\n",
       " 'RUMKM JPHM JPKSW JPHW': 0.0003176343520983232,\n",
       " 'RUMKM JPHM JPKSW CAHW': 0.0003176343520983232,\n",
       " 'RUMKM JPHM JPKSW CNHW': 0.0003176343520983232,\n",
       " 'RUMKM JPHM JPMMW USHW': 0.000314351808641988,\n",
       " 'RUMKM JPHM JPMMW RUHW': 0.000314351808641988,\n",
       " 'RUMKM JPHM JPMMW JPHW': 0.000314351808641988,\n",
       " 'RUMKM JPHM JPMMW CAHW': 0.000314351808641988,\n",
       " 'RUMKM JPHM JPMMW CNHW': 0.000314351808641988,\n",
       " 'RUMKM JPHM CAMSW USHW': 0.0002787636904457017,\n",
       " 'RUMKM JPHM CAMSW RUHW': 0.0002787636904457017,\n",
       " 'RUMKM JPHM CAMSW JPHW': 0.0002787636904457017,\n",
       " 'RUMKM JPHM CAMSW CAHW': 0.0002787636904457017,\n",
       " 'RUMKM JPHM CAMSW CNHW': 0.0002787636904457017,\n",
       " 'RUMKM JPHM CAKRW USHW': 0.0002655146915178689,\n",
       " 'RUMKM JPHM CAKRW RUHW': 0.0002655146915178689,\n",
       " 'RUMKM JPHM CAKRW JPHW': 0.0002655146915178689,\n",
       " 'RUMKM JPHM CAKRW CAHW': 0.0002655146915178689,\n",
       " 'RUMKM JPHM CAKRW CNHW': 0.0002655146915178689,\n",
       " 'RUMKM JPHM CNSLW USHW': 0.00023445678035408142,\n",
       " 'RUMKM JPHM CNSLW RUHW': 0.00023445678035408142,\n",
       " 'RUMKM JPHM CNSLW JPHW': 0.00023445678035408142,\n",
       " 'RUMKM JPHM CNSLW CAHW': 0.00023445678035408142,\n",
       " 'RUMKM JPHM CNSLW CNHW': 0.00023445678035408142,\n",
       " 'RUMKM JPHM CNYZW USHW': 0.00022630240769558349,\n",
       " 'RUMKM JPHM CNYZW RUHW': 0.00022630240769558349,\n",
       " 'RUMKM JPHM CNYZW JPHW': 0.00022630240769558349,\n",
       " 'RUMKM JPHM CNYZW CAHW': 0.00022630240769558349,\n",
       " 'RUMKM JPHM CNYZW CNHW': 0.00022630240769558349,\n",
       " 'RUMKM JPHM ITLGW USHW': 0.00024290821576880892,\n",
       " 'RUMKM JPHM ITLGW RUHW': 0.00024290821576880892,\n",
       " 'RUMKM JPHM ITLGW JPHW': 0.00024290821576880892,\n",
       " 'RUMKM JPHM ITLGW CAHW': 0.00024290821576880892,\n",
       " 'RUMKM JPHM ITLGW CNHW': 0.00024290821576880892,\n",
       " 'RUMKM JPHM ITLBW USHW': 0.00022705991772396854,\n",
       " 'RUMKM JPHM ITLBW RUHW': 0.00022705991772396854,\n",
       " 'RUMKM JPHM ITLBW JPHW': 0.00022705991772396854,\n",
       " 'RUMKM JPHM ITLBW CAHW': 0.00022705991772396854,\n",
       " 'RUMKM JPHM ITLBW CNHW': 0.00022705991772396854,\n",
       " 'RUMKM CAHM USALW USHW': 0.0003094799794398253,\n",
       " 'RUMKM CAHM USALW RUHW': 0.0003094799794398253,\n",
       " 'RUMKM CAHM USALW JPHW': 0.0003094799794398253,\n",
       " 'RUMKM CAHM USALW CAHW': 0.0003094799794398253,\n",
       " 'RUMKM CAHM USALW CNHW': 0.0003094799794398253,\n",
       " 'RUMKM CAHM USILW USHW': 0.0003049794786829494,\n",
       " 'RUMKM CAHM USILW RUHW': 0.0003049794786829494,\n",
       " 'RUMKM CAHM USILW JPHW': 0.0003049794786829494,\n",
       " 'RUMKM CAHM USILW CAHW': 0.0003049794786829494,\n",
       " 'RUMKM CAHM USILW CNHW': 0.0003049794786829494,\n",
       " 'RUMKM CAHM RUKVW USHW': 0.0003906969369929528,\n",
       " 'RUMKM CAHM RUKVW RUHW': 0.0003906969369929528,\n",
       " 'RUMKM CAHM RUKVW JPHW': 0.0003906969369929528,\n",
       " 'RUMKM CAHM RUKVW CAHW': 0.0003906969369929528,\n",
       " 'RUMKM CAHM RUKVW CNHW': 0.0003906969369929528,\n",
       " 'RUMKM CAHM RUETW USHW': 0.00034429573446991506,\n",
       " 'RUMKM CAHM RUETW RUHW': 0.00034429573446991506,\n",
       " 'RUMKM CAHM RUETW JPHW': 0.00034429573446991506,\n",
       " 'RUMKM CAHM RUETW CAHW': 0.00034429573446991506,\n",
       " 'RUMKM CAHM RUETW CNHW': 0.00034429573446991506,\n",
       " 'RUMKM CAHM JPKSW USHW': 0.0003176343520983232,\n",
       " 'RUMKM CAHM JPKSW RUHW': 0.0003176343520983232,\n",
       " 'RUMKM CAHM JPKSW JPHW': 0.0003176343520983232,\n",
       " 'RUMKM CAHM JPKSW CAHW': 0.0003176343520983232,\n",
       " 'RUMKM CAHM JPKSW CNHW': 0.0003176343520983232,\n",
       " 'RUMKM CAHM JPMMW USHW': 0.000314351808641988,\n",
       " 'RUMKM CAHM JPMMW RUHW': 0.000314351808641988,\n",
       " 'RUMKM CAHM JPMMW JPHW': 0.000314351808641988,\n",
       " 'RUMKM CAHM JPMMW CAHW': 0.000314351808641988,\n",
       " 'RUMKM CAHM JPMMW CNHW': 0.000314351808641988,\n",
       " 'RUMKM CAHM CAMSW USHW': 0.0002787636904457017,\n",
       " 'RUMKM CAHM CAMSW RUHW': 0.0002787636904457017,\n",
       " 'RUMKM CAHM CAMSW JPHW': 0.0002787636904457017,\n",
       " 'RUMKM CAHM CAMSW CAHW': 0.0002787636904457017,\n",
       " 'RUMKM CAHM CAMSW CNHW': 0.0002787636904457017,\n",
       " 'RUMKM CAHM CAKRW USHW': 0.0002655146915178689,\n",
       " 'RUMKM CAHM CAKRW RUHW': 0.0002655146915178689,\n",
       " 'RUMKM CAHM CAKRW JPHW': 0.0002655146915178689,\n",
       " 'RUMKM CAHM CAKRW CAHW': 0.0002655146915178689,\n",
       " 'RUMKM CAHM CAKRW CNHW': 0.0002655146915178689,\n",
       " 'RUMKM CAHM CNSLW USHW': 0.00023445678035408142,\n",
       " 'RUMKM CAHM CNSLW RUHW': 0.00023445678035408142,\n",
       " 'RUMKM CAHM CNSLW JPHW': 0.00023445678035408142,\n",
       " 'RUMKM CAHM CNSLW CAHW': 0.00023445678035408142,\n",
       " 'RUMKM CAHM CNSLW CNHW': 0.00023445678035408142,\n",
       " 'RUMKM CAHM CNYZW USHW': 0.00022630240769558349,\n",
       " 'RUMKM CAHM CNYZW RUHW': 0.00022630240769558349,\n",
       " 'RUMKM CAHM CNYZW JPHW': 0.00022630240769558349,\n",
       " 'RUMKM CAHM CNYZW CAHW': 0.00022630240769558349,\n",
       " 'RUMKM CAHM CNYZW CNHW': 0.00022630240769558349,\n",
       " 'RUMKM CAHM ITLGW USHW': 0.00024290821576880892,\n",
       " 'RUMKM CAHM ITLGW RUHW': 0.00024290821576880892,\n",
       " 'RUMKM CAHM ITLGW JPHW': 0.00024290821576880892,\n",
       " 'RUMKM CAHM ITLGW CAHW': 0.00024290821576880892,\n",
       " 'RUMKM CAHM ITLGW CNHW': 0.00024290821576880892,\n",
       " 'RUMKM CAHM ITLBW USHW': 0.00022705991772396854,\n",
       " 'RUMKM CAHM ITLBW RUHW': 0.00022705991772396854,\n",
       " 'RUMKM CAHM ITLBW JPHW': 0.00022705991772396854,\n",
       " 'RUMKM CAHM ITLBW CAHW': 0.00022705991772396854,\n",
       " 'RUMKM CAHM ITLBW CNHW': 0.00022705991772396854,\n",
       " 'RUMKM CNHM USALW USHW': 0.0003094799794398253,\n",
       " 'RUMKM CNHM USALW RUHW': 0.0003094799794398253,\n",
       " 'RUMKM CNHM USALW JPHW': 0.0003094799794398253,\n",
       " 'RUMKM CNHM USALW CAHW': 0.0003094799794398253,\n",
       " 'RUMKM CNHM USALW CNHW': 0.0003094799794398253,\n",
       " 'RUMKM CNHM USILW USHW': 0.0003049794786829494,\n",
       " 'RUMKM CNHM USILW RUHW': 0.0003049794786829494,\n",
       " 'RUMKM CNHM USILW JPHW': 0.0003049794786829494,\n",
       " 'RUMKM CNHM USILW CAHW': 0.0003049794786829494,\n",
       " 'RUMKM CNHM USILW CNHW': 0.0003049794786829494,\n",
       " 'RUMKM CNHM RUKVW USHW': 0.0003906969369929528,\n",
       " 'RUMKM CNHM RUKVW RUHW': 0.0003906969369929528,\n",
       " 'RUMKM CNHM RUKVW JPHW': 0.0003906969369929528,\n",
       " 'RUMKM CNHM RUKVW CAHW': 0.0003906969369929528,\n",
       " 'RUMKM CNHM RUKVW CNHW': 0.0003906969369929528,\n",
       " 'RUMKM CNHM RUETW USHW': 0.00034429573446991506,\n",
       " 'RUMKM CNHM RUETW RUHW': 0.00034429573446991506,\n",
       " 'RUMKM CNHM RUETW JPHW': 0.00034429573446991506,\n",
       " 'RUMKM CNHM RUETW CAHW': 0.00034429573446991506,\n",
       " 'RUMKM CNHM RUETW CNHW': 0.00034429573446991506,\n",
       " 'RUMKM CNHM JPKSW USHW': 0.0003176343520983232,\n",
       " 'RUMKM CNHM JPKSW RUHW': 0.0003176343520983232,\n",
       " 'RUMKM CNHM JPKSW JPHW': 0.0003176343520983232,\n",
       " 'RUMKM CNHM JPKSW CAHW': 0.0003176343520983232,\n",
       " 'RUMKM CNHM JPKSW CNHW': 0.0003176343520983232,\n",
       " 'RUMKM CNHM JPMMW USHW': 0.000314351808641988,\n",
       " 'RUMKM CNHM JPMMW RUHW': 0.000314351808641988,\n",
       " 'RUMKM CNHM JPMMW JPHW': 0.000314351808641988,\n",
       " 'RUMKM CNHM JPMMW CAHW': 0.000314351808641988,\n",
       " 'RUMKM CNHM JPMMW CNHW': 0.000314351808641988,\n",
       " 'RUMKM CNHM CAMSW USHW': 0.0002787636904457017,\n",
       " 'RUMKM CNHM CAMSW RUHW': 0.0002787636904457017,\n",
       " 'RUMKM CNHM CAMSW JPHW': 0.0002787636904457017,\n",
       " 'RUMKM CNHM CAMSW CAHW': 0.0002787636904457017,\n",
       " 'RUMKM CNHM CAMSW CNHW': 0.0002787636904457017,\n",
       " 'RUMKM CNHM CAKRW USHW': 0.0002655146915178689,\n",
       " 'RUMKM CNHM CAKRW RUHW': 0.0002655146915178689,\n",
       " 'RUMKM CNHM CAKRW JPHW': 0.0002655146915178689,\n",
       " 'RUMKM CNHM CAKRW CAHW': 0.0002655146915178689,\n",
       " 'RUMKM CNHM CAKRW CNHW': 0.0002655146915178689,\n",
       " 'RUMKM CNHM CNSLW USHW': 0.00023445678035408142,\n",
       " 'RUMKM CNHM CNSLW RUHW': 0.00023445678035408142,\n",
       " 'RUMKM CNHM CNSLW JPHW': 0.00023445678035408142,\n",
       " 'RUMKM CNHM CNSLW CAHW': 0.00023445678035408142,\n",
       " 'RUMKM CNHM CNSLW CNHW': 0.00023445678035408142,\n",
       " 'RUMKM CNHM CNYZW USHW': 0.00022630240769558349,\n",
       " 'RUMKM CNHM CNYZW RUHW': 0.00022630240769558349,\n",
       " 'RUMKM CNHM CNYZW JPHW': 0.00022630240769558349,\n",
       " 'RUMKM CNHM CNYZW CAHW': 0.00022630240769558349,\n",
       " 'RUMKM CNHM CNYZW CNHW': 0.00022630240769558349,\n",
       " 'RUMKM CNHM ITLGW USHW': 0.00024290821576880892,\n",
       " 'RUMKM CNHM ITLGW RUHW': 0.00024290821576880892,\n",
       " 'RUMKM CNHM ITLGW JPHW': 0.00024290821576880892,\n",
       " 'RUMKM CNHM ITLGW CAHW': 0.00024290821576880892,\n",
       " 'RUMKM CNHM ITLGW CNHW': 0.00024290821576880892,\n",
       " 'RUMKM CNHM ITLBW USHW': 0.00022705991772396854,\n",
       " 'RUMKM CNHM ITLBW RUHW': 0.00022705991772396854,\n",
       " 'RUMKM CNHM ITLBW JPHW': 0.00022705991772396854,\n",
       " 'RUMKM CNHM ITLBW CAHW': 0.00022705991772396854,\n",
       " 'RUMKM CNHM ITLBW CNHW': 0.00022705991772396854,\n",
       " 'RUMKOM USHM USALW USHW': 0.00029887831108808,\n",
       " 'RUMKOM USHM USALW RUHW': 0.00029887831108808,\n",
       " 'RUMKOM USHM USALW JPHW': 0.00029887831108808,\n",
       " 'RUMKOM USHM USALW CAHW': 0.00029887831108808,\n",
       " 'RUMKOM USHM USALW CNHW': 0.00029887831108808,\n",
       " 'RUMKOM USHM USILW USHW': 0.00029453198126183275,\n",
       " 'RUMKOM USHM USILW RUHW': 0.00029453198126183275,\n",
       " 'RUMKOM USHM USILW JPHW': 0.00029453198126183275,\n",
       " 'RUMKOM USHM USILW CAHW': 0.00029453198126183275,\n",
       " 'RUMKOM USHM USILW CNHW': 0.00029453198126183275,\n",
       " 'RUMKOM USHM RUKVW USHW': 0.00037731306848055564,\n",
       " 'RUMKOM USHM RUKVW RUHW': 0.00037731306848055564,\n",
       " 'RUMKOM USHM RUKVW JPHW': 0.00037731306848055564,\n",
       " 'RUMKOM USHM RUKVW CAHW': 0.00037731306848055564,\n",
       " 'RUMKOM USHM RUKVW CNHW': 0.00037731306848055564,\n",
       " 'RUMKOM USHM RUETW USHW': 0.000332501403869346,\n",
       " 'RUMKOM USHM RUETW RUHW': 0.000332501403869346,\n",
       " 'RUMKOM USHM RUETW JPHW': 0.000332501403869346,\n",
       " 'RUMKOM USHM RUETW CAHW': 0.000332501403869346,\n",
       " 'RUMKOM USHM RUETW CNHW': 0.000332501403869346,\n",
       " 'RUMKOM USHM JPKSW USHW': 0.0003067533443376171,\n",
       " 'RUMKOM USHM JPKSW RUHW': 0.0003067533443376171,\n",
       " 'RUMKOM USHM JPKSW JPHW': 0.0003067533443376171,\n",
       " 'RUMKOM USHM JPKSW CAHW': 0.0003067533443376171,\n",
       " 'RUMKOM USHM JPKSW CNHW': 0.0003067533443376171,\n",
       " 'RUMKOM USHM JPMMW USHW': 0.0003035832489857998,\n",
       " 'RUMKOM USHM JPMMW RUHW': 0.0003035832489857998,\n",
       " 'RUMKOM USHM JPMMW JPHW': 0.0003035832489857998,\n",
       " 'RUMKOM USHM JPMMW CAHW': 0.0003035832489857998,\n",
       " 'RUMKOM USHM JPMMW CNHW': 0.0003035832489857998,\n",
       " 'RUMKOM USHM CAMSW USHW': 0.00026921425141587086,\n",
       " 'RUMKOM USHM CAMSW RUHW': 0.00026921425141587086,\n",
       " 'RUMKOM USHM CAMSW JPHW': 0.00026921425141587086,\n",
       " 'RUMKOM USHM CAMSW CAHW': 0.00026921425141587086,\n",
       " 'RUMKOM USHM CAMSW CNHW': 0.00026921425141587086,\n",
       " 'RUMKOM USHM CAKRW USHW': 0.00025641911542573036,\n",
       " 'RUMKOM USHM CAKRW RUHW': 0.00025641911542573036,\n",
       " 'RUMKOM USHM CAKRW JPHW': 0.00025641911542573036,\n",
       " 'RUMKOM USHM CAKRW CAHW': 0.00025641911542573036,\n",
       " 'RUMKOM USHM CAKRW CNHW': 0.00025641911542573036,\n",
       " 'RUMKOM USHM CNSLW USHW': 0.00022642513632776647,\n",
       " 'RUMKOM USHM CNSLW RUHW': 0.00022642513632776647,\n",
       " 'RUMKOM USHM CNSLW JPHW': 0.00022642513632776647,\n",
       " 'RUMKOM USHM CNSLW CAHW': 0.00022642513632776647,\n",
       " 'RUMKOM USHM CNSLW CNHW': 0.00022642513632776647,\n",
       " 'RUMKOM USHM CNYZW USHW': 0.00021855010307822936,\n",
       " 'RUMKOM USHM CNYZW RUHW': 0.00021855010307822936,\n",
       " 'RUMKOM USHM CNYZW JPHW': 0.00021855010307822936,\n",
       " 'RUMKOM USHM CNYZW CAHW': 0.00021855010307822936,\n",
       " 'RUMKOM USHM CNYZW CNHW': 0.00021855010307822936,\n",
       " 'RUMKOM USHM ITLGW USHW': 0.00023458705603448166,\n",
       " 'RUMKOM USHM ITLGW RUHW': 0.00023458705603448166,\n",
       " 'RUMKOM USHM ITLGW JPHW': 0.00023458705603448166,\n",
       " 'RUMKOM USHM ITLGW CAHW': 0.00023458705603448166,\n",
       " 'RUMKOM USHM ITLGW CNHW': 0.00023458705603448166,\n",
       " 'RUMKOM USHM ITLBW USHW': 0.00021928166354403332,\n",
       " 'RUMKOM USHM ITLBW RUHW': 0.00021928166354403332,\n",
       " 'RUMKOM USHM ITLBW JPHW': 0.00021928166354403332,\n",
       " 'RUMKOM USHM ITLBW CAHW': 0.00021928166354403332,\n",
       " 'RUMKOM USHM ITLBW CNHW': 0.00021928166354403332,\n",
       " 'RUMKOM RUHM USALW USHW': 0.00029887831108808,\n",
       " 'RUMKOM RUHM USALW RUHW': 0.00029887831108808,\n",
       " 'RUMKOM RUHM USALW JPHW': 0.00029887831108808,\n",
       " 'RUMKOM RUHM USALW CAHW': 0.00029887831108808,\n",
       " 'RUMKOM RUHM USALW CNHW': 0.00029887831108808,\n",
       " 'RUMKOM RUHM USILW USHW': 0.00029453198126183275,\n",
       " 'RUMKOM RUHM USILW RUHW': 0.00029453198126183275,\n",
       " 'RUMKOM RUHM USILW JPHW': 0.00029453198126183275,\n",
       " 'RUMKOM RUHM USILW CAHW': 0.00029453198126183275,\n",
       " 'RUMKOM RUHM USILW CNHW': 0.00029453198126183275,\n",
       " 'RUMKOM RUHM RUKVW USHW': 0.00037731306848055564,\n",
       " 'RUMKOM RUHM RUKVW RUHW': 0.00037731306848055564,\n",
       " 'RUMKOM RUHM RUKVW JPHW': 0.00037731306848055564,\n",
       " 'RUMKOM RUHM RUKVW CAHW': 0.00037731306848055564,\n",
       " 'RUMKOM RUHM RUKVW CNHW': 0.00037731306848055564,\n",
       " 'RUMKOM RUHM RUETW USHW': 0.000332501403869346,\n",
       " 'RUMKOM RUHM RUETW RUHW': 0.000332501403869346,\n",
       " 'RUMKOM RUHM RUETW JPHW': 0.000332501403869346,\n",
       " 'RUMKOM RUHM RUETW CAHW': 0.000332501403869346,\n",
       " 'RUMKOM RUHM RUETW CNHW': 0.000332501403869346,\n",
       " 'RUMKOM RUHM JPKSW USHW': 0.0003067533443376171,\n",
       " 'RUMKOM RUHM JPKSW RUHW': 0.0003067533443376171,\n",
       " 'RUMKOM RUHM JPKSW JPHW': 0.0003067533443376171,\n",
       " 'RUMKOM RUHM JPKSW CAHW': 0.0003067533443376171,\n",
       " 'RUMKOM RUHM JPKSW CNHW': 0.0003067533443376171,\n",
       " 'RUMKOM RUHM JPMMW USHW': 0.0003035832489857998,\n",
       " 'RUMKOM RUHM JPMMW RUHW': 0.0003035832489857998,\n",
       " 'RUMKOM RUHM JPMMW JPHW': 0.0003035832489857998,\n",
       " 'RUMKOM RUHM JPMMW CAHW': 0.0003035832489857998,\n",
       " 'RUMKOM RUHM JPMMW CNHW': 0.0003035832489857998,\n",
       " 'RUMKOM RUHM CAMSW USHW': 0.00026921425141587086,\n",
       " 'RUMKOM RUHM CAMSW RUHW': 0.00026921425141587086,\n",
       " 'RUMKOM RUHM CAMSW JPHW': 0.00026921425141587086,\n",
       " 'RUMKOM RUHM CAMSW CAHW': 0.00026921425141587086,\n",
       " 'RUMKOM RUHM CAMSW CNHW': 0.00026921425141587086,\n",
       " 'RUMKOM RUHM CAKRW USHW': 0.00025641911542573036,\n",
       " 'RUMKOM RUHM CAKRW RUHW': 0.00025641911542573036,\n",
       " 'RUMKOM RUHM CAKRW JPHW': 0.00025641911542573036,\n",
       " 'RUMKOM RUHM CAKRW CAHW': 0.00025641911542573036,\n",
       " 'RUMKOM RUHM CAKRW CNHW': 0.00025641911542573036,\n",
       " ...}"
      ]
     },
     "execution_count": 104,
     "metadata": {},
     "output_type": "execute_result"
    }
   ],
   "source": [
    "def joint(A, B,C,D, sep=' '):\n",
    "    \"\"\"The joint distribution of two independent probability distributions. \n",
    "    Result is all entries of the form {a+sep+b+sep+c+sep+d: P(a)*P(b)*p(c)*p(d)}\"\"\"\n",
    "    return ProbDist({a+sep+b+sep+c+sep+d: A[a] * B[b] * C[c] * D[d]\n",
    "                    for a in A\n",
    "                    for b in B\n",
    "                    for c in C\n",
    "                    for d in D})\n",
    "\n",
    "MJPD= joint(MFS,HMFS,WFS,HWFS, ' ')\n",
    "MJPD\n"
   ]
  },
  {
   "cell_type": "markdown",
   "id": "364febe1",
   "metadata": {},
   "source": [
    "Lets define few predicates which lets us find the probability of either of the sexes winning below."
   ]
  },
  {
   "cell_type": "code",
   "execution_count": 105,
   "id": "998a530f",
   "metadata": {},
   "outputs": [
    {
     "data": {
      "text/plain": [
       "0.07235543032529203"
      ]
     },
     "execution_count": 105,
     "metadata": {},
     "output_type": "execute_result"
    }
   ],
   "source": [
    "def US_MENWIN_OR_WOMENWIN(outcome):\n",
    "    out1, out2, out3, out4 = outcome.split(' ')\n",
    "    condition  = ((out1.startswith('US') and out2.startswith('US')) or\n",
    "                 (out3.startswith('US') and out4.startswith('US'))                 \n",
    "                 )\n",
    "    return condition \n",
    "p(US_MENWIN_OR_WOMENWIN,MJPD)"
   ]
  },
  {
   "cell_type": "code",
   "execution_count": 106,
   "id": "682eb1fb",
   "metadata": {},
   "outputs": [],
   "source": [
    "def US_MEN_AND_WOMEN_SKATING(outcome):\n",
    "    out1, out2, out3, out4 = outcome.split(' ')\n",
    "    condition = out1.startswith('US') and out3.startswith('US')\n",
    "    return condition"
   ]
  },
  {
   "cell_type": "markdown",
   "id": "d8ea8962",
   "metadata": {},
   "source": [
    "So here is the result i.e. the probability that US wins both events assuming that the teams in contention to win the gold medal for the hockey event for both men and women are USA, China, Russia, Canada, and Japan and that men and women teams have the same probability to win hockey gold."
   ]
  },
  {
   "cell_type": "code",
   "execution_count": 107,
   "id": "37f0207b",
   "metadata": {},
   "outputs": [
    {
     "data": {
      "text/plain": [
       "0.16875125033060803"
      ]
     },
     "execution_count": 107,
     "metadata": {},
     "output_type": "execute_result"
    }
   ],
   "source": [
    "p(US_MEN_AND_WOMEN_SKATING,such_that(US_MENWIN_OR_WOMENWIN,MJPD))"
   ]
  }
 ],
 "metadata": {
  "kernelspec": {
   "display_name": "Python 3 (ipykernel)",
   "language": "python",
   "name": "python3"
  },
  "language_info": {
   "codemirror_mode": {
    "name": "ipython",
    "version": 3
   },
   "file_extension": ".py",
   "mimetype": "text/x-python",
   "name": "python",
   "nbconvert_exporter": "python",
   "pygments_lexer": "ipython3",
   "version": "3.9.7"
  }
 },
 "nbformat": 4,
 "nbformat_minor": 5
}
